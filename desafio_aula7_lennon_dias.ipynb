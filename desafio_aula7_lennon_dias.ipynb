{
 "cells": [
  {
   "cell_type": "markdown",
   "metadata": {},
   "source": [
    "## Aluno: "
   ]
  },
  {
   "cell_type": "markdown",
   "metadata": {},
   "source": [
    "### usando o arquivo house_prices.csv, responda as questões abaixo"
   ]
  },
  {
   "cell_type": "markdown",
   "metadata": {},
   "source": [
    "## 1) leia o arquivo, trate os valores faltantes e remova duplicatas"
   ]
  },
  {
   "cell_type": "code",
   "execution_count": 7,
   "metadata": {},
   "outputs": [
    {
     "name": "stdout",
     "output_type": "stream",
     "text": [
      "   tamanho  n_quartos  idade   preco\n",
      "0   2104.0        3.0   45.0  399900\n",
      "1   2104.0        3.0   45.0  399900\n",
      "2   1600.0        3.0   30.0  329900\n"
     ]
    }
   ],
   "source": [
    "# resposta 1\n",
    "import pandas as pd\n",
    "house_prices = pd.read_csv('house_prices.csv', sep=';')\n",
    "print(house_prices.head(3))\n",
    "house_prices.drop_duplicates()\n",
    "house_prices.fillna(method ='ffill', inplace = True)"
   ]
  },
  {
   "cell_type": "markdown",
   "metadata": {},
   "source": [
    "## 2) Há outliers no data set? Se sim, trate-os de forma adequada. Use box-plots para confirmar a presença de outliers"
   ]
  },
  {
   "cell_type": "code",
   "execution_count": 8,
   "metadata": {},
   "outputs": [
    {
     "name": "stderr",
     "output_type": "stream",
     "text": [
      "C:\\Users\\lenno\\Anaconda3\\envs\\complete\\lib\\site-packages\\ipykernel_launcher.py:12: UserWarning: Matplotlib is currently using module://ipykernel.pylab.backend_inline, which is a non-GUI backend, so cannot show the figure.\n",
      "  if sys.path[0] == '':\n",
      "C:\\Users\\lenno\\Anaconda3\\envs\\complete\\lib\\site-packages\\ipykernel_launcher.py:21: UserWarning: Matplotlib is currently using module://ipykernel.pylab.backend_inline, which is a non-GUI backend, so cannot show the figure.\n"
     ]
    },
    {
     "data": {
      "image/png": "[encoded data removed]",
      "text/plain": [
       "<Figure size 432x288 with 4 Axes>"
      ]
     },
     "metadata": {
      "needs_background": "light"
     },
     "output_type": "display_data"
    },
    {
     "data": {
      "image/png": "[encoded data removed]",
      "text/plain": [
       "<Figure size 432x288 with 4 Axes>"
      ]
     },
     "metadata": {
      "needs_background": "light"
     },
     "output_type": "display_data"
    }
   ],
   "source": [
    "# resposta 2\n",
    "import matplotlib.pyplot as plt\n",
    "import numpy as np\n",
    "from sklearn.preprocessing import normalize\n",
    "from scipy import stats\n",
    "\n",
    "fig1, (ax1, ax2, ax3, ax4) = plt.subplots(1, 4, sharey=True)\n",
    "ax1.boxplot(normalize(house_prices['tamanho'][:,np.newaxis], axis=0).ravel())\n",
    "ax2.boxplot(normalize(house_prices['n_quartos'][:,np.newaxis], axis=0).ravel())\n",
    "ax3.boxplot(normalize(house_prices['idade'][:,np.newaxis], axis=0).ravel())\n",
    "ax4.boxplot(normalize(house_prices['preco'][:,np.newaxis], axis=0).ravel())\n",
    "fig1.show()\n",
    "\n",
    "house_prices = house_prices[(np.abs(stats.zscore(house_prices)) < 3).all(axis=1)]\n",
    "\n",
    "fig1, (ax1, ax2, ax3, ax4) = plt.subplots(1, 4, sharey=True)\n",
    "ax1.boxplot(normalize(house_prices['tamanho'][:,np.newaxis], axis=0).ravel())\n",
    "ax2.boxplot(normalize(house_prices['n_quartos'][:,np.newaxis], axis=0).ravel())\n",
    "ax3.boxplot(normalize(house_prices['idade'][:,np.newaxis], axis=0).ravel())\n",
    "ax4.boxplot(normalize(house_prices['preco'][:,np.newaxis], axis=0).ravel())\n",
    "fig1.show()"
   ]
  },
  {
   "cell_type": "markdown",
   "metadata": {},
   "source": [
    "## 3) insira uma coluna, denominada 'n_andares', com valores no intervalo [1,2], preenchidos de forma aleatória"
   ]
  },
  {
   "cell_type": "code",
   "execution_count": 9,
   "metadata": {},
   "outputs": [
    {
     "name": "stdout",
     "output_type": "stream",
     "text": [
      "   tamanho  n_quartos  idade   preco  n_andares\n",
      "0   2104.0        3.0   45.0  399900          1\n",
      "1   2104.0        3.0   45.0  399900          2\n",
      "2   1600.0        3.0   30.0  329900          1\n"
     ]
    }
   ],
   "source": [
    "# resposta 3\n",
    "house_prices['n_andares'] = house_prices.apply(lambda x: np.random.randint(1, 3), axis=1)\n",
    "print(house_prices.head(3))"
   ]
  },
  {
   "cell_type": "markdown",
   "metadata": {},
   "source": [
    "## 4) para cada variável, plote um scatter e verifique sua relação com a variável meta (preco)"
   ]
  },
  {
   "cell_type": "code",
   "execution_count": 10,
   "metadata": {},
   "outputs": [
    {
     "name": "stderr",
     "output_type": "stream",
     "text": [
      "C:\\Users\\lenno\\Anaconda3\\envs\\complete\\lib\\site-packages\\ipykernel_launcher.py:7: UserWarning: Matplotlib is currently using module://ipykernel.pylab.backend_inline, which is a non-GUI backend, so cannot show the figure.\n",
      "  import sys\n"
     ]
    },
    {
     "data": {
      "image/png": "[encoded data removed]",
      "text/plain": [
       "<Figure size 432x288 with 4 Axes>"
      ]
     },
     "metadata": {
      "needs_background": "light"
     },
     "output_type": "display_data"
    }
   ],
   "source": [
    "# resposta 4\n",
    "fig1, (ax1, ax2, ax3, ax4) = plt.subplots(1, 4, sharey=True)\n",
    "ax1.scatter(house_prices['tamanho'], house_prices['preco'])\n",
    "ax2.scatter(house_prices['n_quartos'], house_prices['preco'])\n",
    "ax3.scatter(house_prices['idade'], house_prices['preco'])\n",
    "ax4.scatter(house_prices['n_andares'], house_prices['preco'])\n",
    "fig1.show()"
   ]
  },
  {
   "cell_type": "markdown",
   "metadata": {},
   "source": [
    "## 5) Separe o dataset em conjuntos de treino e teste, na proporção 70/30"
   ]
  },
  {
   "cell_type": "code",
   "execution_count": 11,
   "metadata": {},
   "outputs": [],
   "source": [
    "# resposta 5\n",
    "from sklearn.model_selection import train_test_split\n",
    "feature_col = ['tamanho','n_quartos','n_andares']\n",
    "meta_col = ['preco']\n",
    "X = house_prices[feature_col].values\n",
    "y = house_prices[meta_col].values\n",
    "split_test_size = 0.30\n",
    "X_train, X_test, y_train, y_test = train_test_split(X, y, test_size=split_test_size, random_state=42)"
   ]
  },
  {
   "cell_type": "markdown",
   "metadata": {},
   "source": [
    "## 6) Utilizando a Scikit Learn, ajuste uma regressão linear aos dados e mostre o MSE da etapa de treinamento"
   ]
  },
  {
   "cell_type": "code",
   "execution_count": 13,
   "metadata": {},
   "outputs": [
    {
     "data": {
      "text/plain": [
       "2931220027.3249826"
      ]
     },
     "execution_count": 13,
     "metadata": {},
     "output_type": "execute_result"
    }
   ],
   "source": [
    "# resposta 6\n",
    "from sklearn import linear_model\n",
    "from sklearn.metrics import mean_squared_error\n",
    "lr_model = linear_model.LinearRegression()\n",
    "lr_model.fit(X_train, y_train.ravel())\n",
    "y_pred_train = lr_model.predict(X_train)\n",
    "mean_squared_error(y_train,y_pred_train)"
   ]
  },
  {
   "cell_type": "markdown",
   "metadata": {},
   "source": [
    "## 7) Prediga o valor da variável meta para cada amostra do conjunto de teste. Qual o MSE? Retorne um DataFrame contendo valor predito na primeira coluna e valor verdadeiro na segunda"
   ]
  },
  {
   "cell_type": "code",
   "execution_count": 19,
   "metadata": {},
   "outputs": [
    {
     "data": {
      "text/html": [
       "<div>\n",
       "<style scoped>\n",
       "    .dataframe tbody tr th:only-of-type {\n",
       "        vertical-align: middle;\n",
       "    }\n",
       "\n",
       "    .dataframe tbody tr th {\n",
       "        vertical-align: top;\n",
       "    }\n",
       "\n",
       "    .dataframe thead th {\n",
       "        text-align: right;\n",
       "    }\n",
       "</style>\n",
       "<table border=\"1\" class=\"dataframe\">\n",
       "  <thead>\n",
       "    <tr style=\"text-align: right;\">\n",
       "      <th></th>\n",
       "      <th>v_pred</th>\n",
       "      <th>v_real</th>\n",
       "    </tr>\n",
       "  </thead>\n",
       "  <tbody>\n",
       "    <tr>\n",
       "      <td>0</td>\n",
       "      <td>[347343.37291257887, 338339.86010025034, 39002...</td>\n",
       "      <td>[[475000], [287000], [469000], [299000], [2499...</td>\n",
       "    </tr>\n",
       "  </tbody>\n",
       "</table>\n",
       "</div>"
      ],
      "text/plain": [
       "                                              v_pred  \\\n",
       "0  [347343.37291257887, 338339.86010025034, 39002...   \n",
       "\n",
       "                                              v_real  \n",
       "0  [[475000], [287000], [469000], [299000], [2499...  "
      ]
     },
     "execution_count": 19,
     "metadata": {},
     "output_type": "execute_result"
    }
   ],
   "source": [
    "# resposta 7\n",
    "y_pred_test = lr_model.predict(X_test)\n",
    "mse = mean_squared_error(y_test, y_pred_test)\n",
    "pd.DataFrame(data={'v_pred': [y_pred_test], 'v_real': [y_test]})"
   ]
  },
  {
   "cell_type": "code",
   "execution_count": null,
   "metadata": {},
   "outputs": [],
   "source": []
  }
 ],
 "metadata": {
  "kernelspec": {
   "display_name": "Python 3",
   "language": "python",
   "name": "python3"
  },
  "language_info": {
   "codemirror_mode": {
    "name": "ipython",
    "version": 3
   },
   "file_extension": ".py",
   "mimetype": "text/x-python",
   "name": "python",
   "nbconvert_exporter": "python",
   "pygments_lexer": "ipython3",
   "version": "3.7.3"
  }
 },
 "nbformat": 4,
 "nbformat_minor": 4
}
