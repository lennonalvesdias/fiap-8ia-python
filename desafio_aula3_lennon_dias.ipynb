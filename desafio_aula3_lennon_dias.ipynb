{
 "cells": [
  {
   "cell_type": "markdown",
   "metadata": {},
   "source": [
    "# Exercícios"
   ]
  },
  {
   "cell_type": "markdown",
   "metadata": {},
   "source": [
    "## 1) Crie uma classe que irá modelar características geométricas de um círculo. Deverá implementar os métodos:\n",
    "        -> Área \n",
    "        -> Perímetro\n",
    "## Utilize atributos de classe e de instância apropriados. Crie um inicializador e métodos.\n",
    "$area = \\pi*r^2$\n",
    "\n",
    "$perimetro = 2*\\pi*r$"
   ]
  },
  {
   "cell_type": "code",
   "execution_count": 14,
   "metadata": {},
   "outputs": [
    {
     "name": "stdout",
     "output_type": "stream",
     "text": [
      "314.1592653589793\n",
      "62.83185307179586\n"
     ]
    }
   ],
   "source": [
    "# resposta 1\n",
    "import numpy as np\n",
    "class Geometrica:\n",
    "    def __init__(self, raio):\n",
    "        self.raio = raio\n",
    "    def area(self):\n",
    "        return np.pi * (self.raio ** 2)\n",
    "    def perimetro(self):\n",
    "        return 2 * np.pi * self.raio\n",
    "print(Geometrica(10).area())\n",
    "print(Geometrica(10).perimetro())"
   ]
  },
  {
   "cell_type": "markdown",
   "metadata": {},
   "source": [
    "## 2) Crie uma classe chamada matemática que conterá duas classes: trigonométrica e algébrica. Defina dentro da classe trigonométrica as seguintes funções:\n",
    "    -> seno\n",
    "    -> cosseno\n",
    "    -> tangente\n",
    "## Defina dentro da classe algébrica as seguintes funções: \n",
    "    -> soma\n",
    "    -> subtração\n",
    "    -> multiplicação\n",
    "    -> divisão\n",
    "## Cada função deverá receber array e retornar array"
   ]
  },
  {
   "cell_type": "code",
   "execution_count": 72,
   "metadata": {},
   "outputs": [
    {
     "name": "stdout",
     "output_type": "stream",
     "text": [
      "[-0.2794155   0.98935825  0.41211849]\n",
      "[ 0.96017029 -0.14550003 -0.91113026]\n",
      "[-0.29100619 -6.79971146 -0.45231566]\n",
      "23\n",
      "-11\n",
      "432\n",
      "0.08333333333333333\n"
     ]
    }
   ],
   "source": [
    "# resposta 2\n",
    "import numpy as np\n",
    "class Matematica(object):\n",
    "    def __init__(self, array_entrada):\n",
    "        self.array_entrada = array_entrada\n",
    "    def getTrigonometrica(self):\n",
    "        return self.Trigonometrica(self)\n",
    "    def getAlgebrica(self):\n",
    "        return self.Algebrica(self)\n",
    "    \n",
    "    class Trigonometrica(object):\n",
    "        def __init__(self, Matematica):\n",
    "            self.Matematica = Matematica\n",
    "        def seno(self):\n",
    "            return np.sin(self.Matematica.array_entrada)\n",
    "        def cosseno(self):\n",
    "            return np.cos(self.Matematica.array_entrada)\n",
    "        def tangente(self):\n",
    "            return np.tan(self.Matematica.array_entrada)\n",
    "        \n",
    "    class Algebrica(object):\n",
    "        def __init__(self, Matematica):\n",
    "            self.Matematica = Matematica\n",
    "        def soma(self):\n",
    "            for idx, numero_array in enumerate(self.Matematica.array_entrada, start=1):\n",
    "                resultado = numero_array if idx == 1 else resultado + numero_array\n",
    "            return resultado\n",
    "        def subtracao(self):\n",
    "            for idx, numero_array in enumerate(self.Matematica.array_entrada, start=1):\n",
    "                resultado = numero_array if idx == 1 else resultado - numero_array\n",
    "            return resultado\n",
    "        def multiplicacao(self):\n",
    "            for idx, numero_array in enumerate(self.Matematica.array_entrada, start=1):\n",
    "                resultado = numero_array if idx == 1 else resultado * numero_array\n",
    "            return resultado\n",
    "        def divisao(self):\n",
    "            for idx, numero_array in enumerate(self.Matematica.array_entrada, start=1):\n",
    "                resultado = numero_array if idx == 1 else resultado / numero_array\n",
    "            return resultado\n",
    "        \n",
    "trigonometrica = Matematica([6,8,9]).getTrigonometrica()\n",
    "print(trigonometrica.seno())\n",
    "print(trigonometrica.cosseno())\n",
    "print(trigonometrica.tangente())\n",
    "\n",
    "algebrica = Matematica([6,8,9]).getAlgebrica()\n",
    "print(algebrica.soma())\n",
    "print(algebrica.subtracao())\n",
    "print(algebrica.multiplicacao())\n",
    "print(algebrica.divisao())"
   ]
  },
  {
   "cell_type": "markdown",
   "metadata": {},
   "source": [
    "## 3) Dados 2 arrays, A e B, remova de A todo elemento pertencente a B"
   ]
  },
  {
   "cell_type": "code",
   "execution_count": 81,
   "metadata": {},
   "outputs": [
    {
     "name": "stdout",
     "output_type": "stream",
     "text": [
      "[0, 2, 4, 6]\n"
     ]
    }
   ],
   "source": [
    "# resposta 3\n",
    "a = [0,1,2,3,4,5,6]\n",
    "b = [1,3,5]\n",
    "for elemento in b:\n",
    "    a.remove(elemento)\n",
    "print(a)"
   ]
  },
  {
   "cell_type": "markdown",
   "metadata": {},
   "source": [
    "## 4) Crie uma função que recebe um array, um inteiro n e um inteiro m e que retorne outro array contendo elementos que estão entre os valores n e m do array recebido pela função. "
   ]
  },
  {
   "cell_type": "code",
   "execution_count": 107,
   "metadata": {},
   "outputs": [
    {
     "name": "stdout",
     "output_type": "stream",
     "text": [
      "(array([3, 4, 5], dtype=int64),)\n"
     ]
    }
   ],
   "source": [
    "# resposta 4\n",
    "import numpy as np\n",
    "def my_func(i_array, i_n, i_m):\n",
    "    return np.where((i_n < i_array) & (i_m > i_array))\n",
    "print(my_func(np.array([0,1,2,3,4,5,6]), 2, 6))"
   ]
  },
  {
   "cell_type": "markdown",
   "metadata": {},
   "source": [
    "## 5) Escreva uma função que recebe um vetor e um inteiro. Compare cada elemento desse vetor com o número inteiro. Se o elemento do vetor for maior, retorne a diferença entre eles, caso contrário, retorne a soma."
   ]
  },
  {
   "cell_type": "code",
   "execution_count": 109,
   "metadata": {},
   "outputs": [
    {
     "name": "stdout",
     "output_type": "stream",
     "text": [
      "6\n",
      "7\n",
      "8\n",
      "1\n",
      "2\n"
     ]
    }
   ],
   "source": [
    "# resposta 5\n",
    "def my_func(i_vetor, i_inteiro):\n",
    "    for elemento in i_vetor:\n",
    "        print(elemento - i_inteiro if elemento > i_inteiro else elemento + i_inteiro)\n",
    "my_func([2,3,4,5,6], 4)"
   ]
  },
  {
   "cell_type": "markdown",
   "metadata": {},
   "source": [
    "## 6) Dada a seguinte matriz:\n",
    "    -> [ 8,1,7\n",
    "         4,3,9\n",
    "         5,2,6]\n",
    "## escreva uma função que retorne a matriz ordenada por um dos eixos. utilize a função built-in sorted para realizar a ordenação"
   ]
  },
  {
   "cell_type": "code",
   "execution_count": 128,
   "metadata": {},
   "outputs": [
    {
     "name": "stdout",
     "output_type": "stream",
     "text": [
      "[[1 7 8]\n",
      " [3 4 9]\n",
      " [2 5 6]]\n"
     ]
    }
   ],
   "source": [
    "# resposta 6\n",
    "import numpy as np\n",
    "def my_func(i_matriz):\n",
    "    i_matriz.sort(axis=1)\n",
    "\n",
    "a = np.array([[8,1,7], [4,3,9], [5,2,6]])\n",
    "my_func(a)\n",
    "print(a)"
   ]
  },
  {
   "cell_type": "code",
   "execution_count": null,
   "metadata": {},
   "outputs": [],
   "source": []
  }
 ],
 "metadata": {
  "kernelspec": {
   "display_name": "Python 3",
   "language": "python",
   "name": "python3"
  },
  "language_info": {
   "codemirror_mode": {
    "name": "ipython",
    "version": 3
   },
   "file_extension": ".py",
   "mimetype": "text/x-python",
   "name": "python",
   "nbconvert_exporter": "python",
   "pygments_lexer": "ipython3",
   "version": "3.7.1"
  }
 },
 "nbformat": 4,
 "nbformat_minor": 2
}
