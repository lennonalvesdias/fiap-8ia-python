{
 "cells": [
  {
   "cell_type": "markdown",
   "metadata": {},
   "source": [
    "# ![https://www.fiap.com.br/](https://img.shields.io/badge/FIAP-red.svg?longCache=true&style=for-the-badge) Programando IA com Python\n",
    "#### Lennon V. Alves Dias . RM 334415"
   ]
  },
  {
   "cell_type": "markdown",
   "metadata": {},
   "source": [
    "1. Leia o aquivo lemonades.csv usando pandas"
   ]
  },
  {
   "cell_type": "code",
   "execution_count": 63,
   "metadata": {},
   "outputs": [
    {
     "data": {
      "text/html": [
       "<div>\n",
       "<style scoped>\n",
       "    .dataframe tbody tr th:only-of-type {\n",
       "        vertical-align: middle;\n",
       "    }\n",
       "\n",
       "    .dataframe tbody tr th {\n",
       "        vertical-align: top;\n",
       "    }\n",
       "\n",
       "    .dataframe thead th {\n",
       "        text-align: right;\n",
       "    }\n",
       "</style>\n",
       "<table border=\"1\" class=\"dataframe\">\n",
       "  <thead>\n",
       "    <tr style=\"text-align: right;\">\n",
       "      <th></th>\n",
       "      <th>Date</th>\n",
       "      <th>Location</th>\n",
       "      <th>Lemon</th>\n",
       "      <th>Orange</th>\n",
       "      <th>Temperature</th>\n",
       "      <th>Leaflets</th>\n",
       "      <th>Price</th>\n",
       "    </tr>\n",
       "  </thead>\n",
       "  <tbody>\n",
       "    <tr>\n",
       "      <td>0</td>\n",
       "      <td>07/01/2016</td>\n",
       "      <td>Park</td>\n",
       "      <td>97</td>\n",
       "      <td>67</td>\n",
       "      <td>70</td>\n",
       "      <td>90.0</td>\n",
       "      <td>0.25</td>\n",
       "    </tr>\n",
       "    <tr>\n",
       "      <td>1</td>\n",
       "      <td>07/02/2016</td>\n",
       "      <td>Park</td>\n",
       "      <td>98</td>\n",
       "      <td>67</td>\n",
       "      <td>72</td>\n",
       "      <td>90.0</td>\n",
       "      <td>0.25</td>\n",
       "    </tr>\n",
       "    <tr>\n",
       "      <td>2</td>\n",
       "      <td>07/03/2016</td>\n",
       "      <td>Park</td>\n",
       "      <td>110</td>\n",
       "      <td>77</td>\n",
       "      <td>71</td>\n",
       "      <td>104.0</td>\n",
       "      <td>0.25</td>\n",
       "    </tr>\n",
       "  </tbody>\n",
       "</table>\n",
       "</div>"
      ],
      "text/plain": [
       "         Date Location  Lemon  Orange  Temperature  Leaflets  Price\n",
       "0  07/01/2016     Park     97      67           70      90.0   0.25\n",
       "1  07/02/2016     Park     98      67           72      90.0   0.25\n",
       "2  07/03/2016     Park    110      77           71     104.0   0.25"
      ]
     },
     "execution_count": 63,
     "metadata": {},
     "output_type": "execute_result"
    }
   ],
   "source": [
    "import pandas as pd\n",
    "lemonades = pd.read_csv('lemonades.csv', sep=';')\n",
    "lemonades.head(3)"
   ]
  },
  {
   "cell_type": "markdown",
   "metadata": {},
   "source": [
    "2. Retorne as informações sobre as colunas e as principais estatísticas sobre o dataset"
   ]
  },
  {
   "cell_type": "code",
   "execution_count": 64,
   "metadata": {},
   "outputs": [
    {
     "data": {
      "text/html": [
       "<div>\n",
       "<style scoped>\n",
       "    .dataframe tbody tr th:only-of-type {\n",
       "        vertical-align: middle;\n",
       "    }\n",
       "\n",
       "    .dataframe tbody tr th {\n",
       "        vertical-align: top;\n",
       "    }\n",
       "\n",
       "    .dataframe thead th {\n",
       "        text-align: right;\n",
       "    }\n",
       "</style>\n",
       "<table border=\"1\" class=\"dataframe\">\n",
       "  <thead>\n",
       "    <tr style=\"text-align: right;\">\n",
       "      <th></th>\n",
       "      <th>Lemon</th>\n",
       "      <th>Orange</th>\n",
       "      <th>Temperature</th>\n",
       "      <th>Leaflets</th>\n",
       "      <th>Price</th>\n",
       "    </tr>\n",
       "  </thead>\n",
       "  <tbody>\n",
       "    <tr>\n",
       "      <td>count</td>\n",
       "      <td>32.000000</td>\n",
       "      <td>32.000000</td>\n",
       "      <td>32.000000</td>\n",
       "      <td>31.000000</td>\n",
       "      <td>32.000000</td>\n",
       "    </tr>\n",
       "    <tr>\n",
       "      <td>mean</td>\n",
       "      <td>116.156250</td>\n",
       "      <td>80.000000</td>\n",
       "      <td>78.968750</td>\n",
       "      <td>108.548387</td>\n",
       "      <td>0.354688</td>\n",
       "    </tr>\n",
       "    <tr>\n",
       "      <td>std</td>\n",
       "      <td>25.823357</td>\n",
       "      <td>21.863211</td>\n",
       "      <td>4.067847</td>\n",
       "      <td>20.117718</td>\n",
       "      <td>0.113137</td>\n",
       "    </tr>\n",
       "    <tr>\n",
       "      <td>min</td>\n",
       "      <td>71.000000</td>\n",
       "      <td>42.000000</td>\n",
       "      <td>70.000000</td>\n",
       "      <td>68.000000</td>\n",
       "      <td>0.250000</td>\n",
       "    </tr>\n",
       "    <tr>\n",
       "      <td>25%</td>\n",
       "      <td>98.000000</td>\n",
       "      <td>66.750000</td>\n",
       "      <td>77.000000</td>\n",
       "      <td>90.000000</td>\n",
       "      <td>0.250000</td>\n",
       "    </tr>\n",
       "    <tr>\n",
       "      <td>50%</td>\n",
       "      <td>113.500000</td>\n",
       "      <td>76.500000</td>\n",
       "      <td>80.500000</td>\n",
       "      <td>108.000000</td>\n",
       "      <td>0.350000</td>\n",
       "    </tr>\n",
       "    <tr>\n",
       "      <td>75%</td>\n",
       "      <td>131.750000</td>\n",
       "      <td>95.000000</td>\n",
       "      <td>82.000000</td>\n",
       "      <td>124.000000</td>\n",
       "      <td>0.500000</td>\n",
       "    </tr>\n",
       "    <tr>\n",
       "      <td>max</td>\n",
       "      <td>176.000000</td>\n",
       "      <td>129.000000</td>\n",
       "      <td>84.000000</td>\n",
       "      <td>158.000000</td>\n",
       "      <td>0.500000</td>\n",
       "    </tr>\n",
       "  </tbody>\n",
       "</table>\n",
       "</div>"
      ],
      "text/plain": [
       "            Lemon      Orange  Temperature    Leaflets      Price\n",
       "count   32.000000   32.000000    32.000000   31.000000  32.000000\n",
       "mean   116.156250   80.000000    78.968750  108.548387   0.354688\n",
       "std     25.823357   21.863211     4.067847   20.117718   0.113137\n",
       "min     71.000000   42.000000    70.000000   68.000000   0.250000\n",
       "25%     98.000000   66.750000    77.000000   90.000000   0.250000\n",
       "50%    113.500000   76.500000    80.500000  108.000000   0.350000\n",
       "75%    131.750000   95.000000    82.000000  124.000000   0.500000\n",
       "max    176.000000  129.000000    84.000000  158.000000   0.500000"
      ]
     },
     "execution_count": 64,
     "metadata": {},
     "output_type": "execute_result"
    }
   ],
   "source": [
    "lemonades.describe()"
   ]
  },
  {
   "cell_type": "markdown",
   "metadata": {},
   "source": [
    "3. Realize a limpeza do dataset:\n",
    "    1. verifique se existe valores nulos\n",
    "    2. verifique e remova, se existir, linhas duplicadas\n",
    "    3. trate os elementos faltantes (interpolação (data) e media)"
   ]
  },
  {
   "cell_type": "code",
   "execution_count": 65,
   "metadata": {},
   "outputs": [
    {
     "name": "stdout",
     "output_type": "stream",
     "text": [
      "Date           1\n",
      "Location       0\n",
      "Lemon          0\n",
      "Orange         0\n",
      "Temperature    0\n",
      "Leaflets       1\n",
      "Price          0\n",
      "dtype: int64\n"
     ]
    }
   ],
   "source": [
    "print(lemonades.isnull().sum())\n",
    "lemonades.drop_duplicates()\n",
    "lemonades['Date'].fillna(method ='ffill', inplace = True)\n",
    "lemonades['Location'].fillna(method ='ffill', inplace = True)\n",
    "lemonades['Lemon'].fillna(lemonades['Lemon'].mean(), inplace = True)\n",
    "lemonades['Orange'].fillna(lemonades['Orange'].mean(), inplace = True)\n",
    "lemonades['Temperature'].fillna(lemonades['Temperature'].mean(), inplace = True)\n",
    "lemonades['Leaflets'].fillna(lemonades['Leaflets'].mean(), inplace = True)\n",
    "lemonades['Price'].fillna(lemonades['Price'].mean(), inplace = True)"
   ]
  },
  {
   "cell_type": "markdown",
   "metadata": {},
   "source": [
    "4. Adicione uma coluna chamada \"Sales\" que contém o total de vendas de limão e laranja\n"
   ]
  },
  {
   "cell_type": "code",
   "execution_count": 66,
   "metadata": {},
   "outputs": [
    {
     "data": {
      "text/html": [
       "<div>\n",
       "<style scoped>\n",
       "    .dataframe tbody tr th:only-of-type {\n",
       "        vertical-align: middle;\n",
       "    }\n",
       "\n",
       "    .dataframe tbody tr th {\n",
       "        vertical-align: top;\n",
       "    }\n",
       "\n",
       "    .dataframe thead th {\n",
       "        text-align: right;\n",
       "    }\n",
       "</style>\n",
       "<table border=\"1\" class=\"dataframe\">\n",
       "  <thead>\n",
       "    <tr style=\"text-align: right;\">\n",
       "      <th></th>\n",
       "      <th>Date</th>\n",
       "      <th>Location</th>\n",
       "      <th>Lemon</th>\n",
       "      <th>Orange</th>\n",
       "      <th>Temperature</th>\n",
       "      <th>Leaflets</th>\n",
       "      <th>Price</th>\n",
       "      <th>Sales</th>\n",
       "    </tr>\n",
       "  </thead>\n",
       "  <tbody>\n",
       "    <tr>\n",
       "      <td>0</td>\n",
       "      <td>07/01/2016</td>\n",
       "      <td>Park</td>\n",
       "      <td>97</td>\n",
       "      <td>67</td>\n",
       "      <td>70</td>\n",
       "      <td>90.0</td>\n",
       "      <td>0.25</td>\n",
       "      <td>164</td>\n",
       "    </tr>\n",
       "    <tr>\n",
       "      <td>1</td>\n",
       "      <td>07/02/2016</td>\n",
       "      <td>Park</td>\n",
       "      <td>98</td>\n",
       "      <td>67</td>\n",
       "      <td>72</td>\n",
       "      <td>90.0</td>\n",
       "      <td>0.25</td>\n",
       "      <td>165</td>\n",
       "    </tr>\n",
       "    <tr>\n",
       "      <td>2</td>\n",
       "      <td>07/03/2016</td>\n",
       "      <td>Park</td>\n",
       "      <td>110</td>\n",
       "      <td>77</td>\n",
       "      <td>71</td>\n",
       "      <td>104.0</td>\n",
       "      <td>0.25</td>\n",
       "      <td>187</td>\n",
       "    </tr>\n",
       "  </tbody>\n",
       "</table>\n",
       "</div>"
      ],
      "text/plain": [
       "         Date Location  Lemon  Orange  Temperature  Leaflets  Price  Sales\n",
       "0  07/01/2016     Park     97      67           70      90.0   0.25    164\n",
       "1  07/02/2016     Park     98      67           72      90.0   0.25    165\n",
       "2  07/03/2016     Park    110      77           71     104.0   0.25    187"
      ]
     },
     "execution_count": 66,
     "metadata": {},
     "output_type": "execute_result"
    }
   ],
   "source": [
    "lemonades['Sales'] = lemonades['Lemon'] + lemonades['Orange']\n",
    "lemonades.head(3)"
   ]
  },
  {
   "cell_type": "markdown",
   "metadata": {},
   "source": [
    "5. Adicione uma coluna chamada \"Revenue\" que calcula o lucro (venda*preço)"
   ]
  },
  {
   "cell_type": "code",
   "execution_count": 67,
   "metadata": {},
   "outputs": [
    {
     "data": {
      "text/html": [
       "<div>\n",
       "<style scoped>\n",
       "    .dataframe tbody tr th:only-of-type {\n",
       "        vertical-align: middle;\n",
       "    }\n",
       "\n",
       "    .dataframe tbody tr th {\n",
       "        vertical-align: top;\n",
       "    }\n",
       "\n",
       "    .dataframe thead th {\n",
       "        text-align: right;\n",
       "    }\n",
       "</style>\n",
       "<table border=\"1\" class=\"dataframe\">\n",
       "  <thead>\n",
       "    <tr style=\"text-align: right;\">\n",
       "      <th></th>\n",
       "      <th>Date</th>\n",
       "      <th>Location</th>\n",
       "      <th>Lemon</th>\n",
       "      <th>Orange</th>\n",
       "      <th>Temperature</th>\n",
       "      <th>Leaflets</th>\n",
       "      <th>Price</th>\n",
       "      <th>Sales</th>\n",
       "      <th>Revenue</th>\n",
       "    </tr>\n",
       "  </thead>\n",
       "  <tbody>\n",
       "    <tr>\n",
       "      <td>0</td>\n",
       "      <td>07/01/2016</td>\n",
       "      <td>Park</td>\n",
       "      <td>97</td>\n",
       "      <td>67</td>\n",
       "      <td>70</td>\n",
       "      <td>90.0</td>\n",
       "      <td>0.25</td>\n",
       "      <td>164</td>\n",
       "      <td>41.00</td>\n",
       "    </tr>\n",
       "    <tr>\n",
       "      <td>1</td>\n",
       "      <td>07/02/2016</td>\n",
       "      <td>Park</td>\n",
       "      <td>98</td>\n",
       "      <td>67</td>\n",
       "      <td>72</td>\n",
       "      <td>90.0</td>\n",
       "      <td>0.25</td>\n",
       "      <td>165</td>\n",
       "      <td>41.25</td>\n",
       "    </tr>\n",
       "    <tr>\n",
       "      <td>2</td>\n",
       "      <td>07/03/2016</td>\n",
       "      <td>Park</td>\n",
       "      <td>110</td>\n",
       "      <td>77</td>\n",
       "      <td>71</td>\n",
       "      <td>104.0</td>\n",
       "      <td>0.25</td>\n",
       "      <td>187</td>\n",
       "      <td>46.75</td>\n",
       "    </tr>\n",
       "  </tbody>\n",
       "</table>\n",
       "</div>"
      ],
      "text/plain": [
       "         Date Location  Lemon  Orange  Temperature  Leaflets  Price  Sales  \\\n",
       "0  07/01/2016     Park     97      67           70      90.0   0.25    164   \n",
       "1  07/02/2016     Park     98      67           72      90.0   0.25    165   \n",
       "2  07/03/2016     Park    110      77           71     104.0   0.25    187   \n",
       "\n",
       "   Revenue  \n",
       "0    41.00  \n",
       "1    41.25  \n",
       "2    46.75  "
      ]
     },
     "execution_count": 67,
     "metadata": {},
     "output_type": "execute_result"
    }
   ],
   "source": [
    "lemonades['Revenue'] = lemonades['Price'] * lemonades['Sales']\n",
    "lemonades.head(3)"
   ]
  },
  {
   "cell_type": "markdown",
   "metadata": {},
   "source": [
    "6. Escreva uma função que retorne o lucro total"
   ]
  },
  {
   "cell_type": "code",
   "execution_count": 68,
   "metadata": {},
   "outputs": [
    {
     "data": {
      "text/plain": [
       "'Total: 2181.0'"
      ]
     },
     "execution_count": 68,
     "metadata": {},
     "output_type": "execute_result"
    }
   ],
   "source": [
    "def get_total(dataset, field):\n",
    "    return f'Total: {dataset[field].sum()}'\n",
    "get_total(lemonades, 'Revenue')"
   ]
  },
  {
   "cell_type": "markdown",
   "metadata": {},
   "source": [
    "7. Escreva uma função que receba dois parâmetros, dataset e temp(int). Se temp for 1, ele retorna a máxima temperatura observada no conjunto de dados; se 0, retorna a média do período observado; se -1, retorna a temperatura mínima."
   ]
  },
  {
   "cell_type": "code",
   "execution_count": 69,
   "metadata": {},
   "outputs": [
    {
     "name": "stdout",
     "output_type": "stream",
     "text": [
      "max: 84 mean: 78 min: 70\n"
     ]
    }
   ],
   "source": [
    "def my_func(dataset, temp):\n",
    "    return dataset['Temperature'].max() if temp == 1 else (int(dataset['Temperature'].mean()) if temp == 0 else (dataset['Temperature'].min() if temp == -1 else 'Invalid Temperature'))\n",
    "temp_max = my_func(lemonades, 1)\n",
    "temp_mean = my_func(lemonades, 0)\n",
    "temp_min = my_func(lemonades, -1)\n",
    "print(f'max: {temp_max}', f'mean: {temp_mean}', f'min: {temp_min}')"
   ]
  },
  {
   "cell_type": "markdown",
   "metadata": {},
   "source": [
    "8. Escreva uma função que receba dois parâmetros (dataset, localização) e retorne o dataset com o preço do limão e laranja ajustados em 15% se a localização for 'Park' ou ajustados em 10% se a localização for 'Beach'."
   ]
  },
  {
   "cell_type": "code",
   "execution_count": 70,
   "metadata": {},
   "outputs": [
    {
     "name": "stdout",
     "output_type": "stream",
     "text": [
      "         Date Location  Lemon  Orange  Temperature  Leaflets  Price  Sales  \\\n",
      "0  07/01/2016     Park     97      67           70      90.0   0.25    164   \n",
      "1  07/02/2016     Park     98      67           72      90.0   0.25    165   \n",
      "2  07/03/2016     Park    110      77           71     104.0   0.25    187   \n",
      "\n",
      "   Revenue  \n",
      "0    41.00  \n",
      "1    41.25  \n",
      "2    46.75  \n",
      "         Date Location  Lemon  Orange  Temperature  Leaflets  Price  Sales  \\\n",
      "0  07/01/2016     Park     97      67           70      90.0  0.275    164   \n",
      "1  07/02/2016     Park     98      67           72      90.0  0.275    165   \n",
      "2  07/03/2016     Park    110      77           71     104.0  0.275    187   \n",
      "\n",
      "   Revenue  \n",
      "0    41.00  \n",
      "1    41.25  \n",
      "2    46.75  \n",
      "         Date Location  Lemon  Orange  Temperature  Leaflets    Price  Sales  \\\n",
      "0  07/01/2016     Park     97      67           70      90.0  0.31625    164   \n",
      "1  07/02/2016     Park     98      67           72      90.0  0.31625    165   \n",
      "2  07/03/2016     Park    110      77           71     104.0  0.31625    187   \n",
      "\n",
      "   Revenue  \n",
      "0    41.00  \n",
      "1    41.25  \n",
      "2    46.75  \n"
     ]
    }
   ],
   "source": [
    "def my_func(dataset, location):\n",
    "    n_dataset = dataset\n",
    "    if location == 'Park':\n",
    "        n_dataset['Price'] = dataset['Price'] * 1.15\n",
    "    elif location == 'Beach':\n",
    "        n_dataset['Price'] = dataset['Price'] * 1.1\n",
    "    return n_dataset\n",
    "print(my_func(lemonades, 'Other').head(3))\n",
    "print(my_func(lemonades, 'Beach').head(3))\n",
    "print(my_func(lemonades, 'Park').head(3))"
   ]
  },
  {
   "cell_type": "markdown",
   "metadata": {},
   "source": [
    "9. Escreva uma função que receba o dataset como parâmetro e retorne o dataset com uma coluna a mais que mostre o rank de temperatura. O dataset retornado precisa estar ordenado de acordo com rank (descendente)"
   ]
  },
  {
   "cell_type": "code",
   "execution_count": 71,
   "metadata": {},
   "outputs": [
    {
     "name": "stdout",
     "output_type": "stream",
     "text": [
      "          Date Location  Lemon  Orange  Temperature    Leaflets    Price  \\\n",
      "0   07/01/2016     Park     97      67           70   90.000000  0.31625   \n",
      "1   07/02/2016     Park     98      67           72   90.000000  0.31625   \n",
      "2   07/03/2016     Park    110      77           71  104.000000  0.31625   \n",
      "3   07/04/2016    Beach    134      99           76   98.000000  0.31625   \n",
      "4   07/05/2016    Beach    159     118           78  135.000000  0.31625   \n",
      "5   07/06/2016    Beach    103      69           82   90.000000  0.31625   \n",
      "6   07/06/2016    Beach    103      69           82   90.000000  0.31625   \n",
      "7   07/07/2016    Beach    143     101           81  135.000000  0.31625   \n",
      "8   07/07/2016    Beach    123      86           82  113.000000  0.31625   \n",
      "9   07/09/2016    Beach    134      95           80  126.000000  0.31625   \n",
      "10  07/10/2016    Beach    140      98           82  131.000000  0.31625   \n",
      "11  07/11/2016    Beach    162     120           83  135.000000  0.31625   \n",
      "12  07/12/2016    Beach    130      95           84   99.000000  0.31625   \n",
      "13   7/13/2016    Beach    109      75           77   99.000000  0.31625   \n",
      "14   7/14/2016    Beach    122      85           78  113.000000  0.31625   \n",
      "15   7/15/2016    Beach     98      62           75  108.000000  0.63250   \n",
      "16   7/16/2016    Beach     81      50           74   90.000000  0.63250   \n",
      "17   7/17/2016    Beach    115      76           77  126.000000  0.63250   \n",
      "18   7/18/2016     Park    131      92           81  122.000000  0.63250   \n",
      "19   7/19/2016     Park    122      85           78  113.000000  0.63250   \n",
      "20   7/20/2016     Park     71      42           70  108.548387  0.63250   \n",
      "21   7/21/2016     Park     83      50           77   90.000000  0.63250   \n",
      "22   7/22/2016     Park    112      75           80  108.000000  0.63250   \n",
      "23   7/23/2016     Park    120      82           81  117.000000  0.63250   \n",
      "24   7/24/2016     Park    121      82           82  117.000000  0.63250   \n",
      "25   7/25/2016     Park    156     113           84  135.000000  0.63250   \n",
      "26   7/26/2016     Park    176     129           83  158.000000  0.44275   \n",
      "27   7/27/2016     Park    104      68           80   99.000000  0.44275   \n",
      "28   7/28/2016     Park     96      63           82   90.000000  0.44275   \n",
      "29   7/29/2016     Park    100      66           81   95.000000  0.44275   \n",
      "30   7/30/2016    Beach     88      57           82   81.000000  0.44275   \n",
      "31   7/31/2016    Beach     76      47           82   68.000000  0.44275   \n",
      "\n",
      "    Sales  Revenue  Rank  \n",
      "0     164    41.00   1.5  \n",
      "1     165    41.25   4.0  \n",
      "2     187    46.75   3.0  \n",
      "3     233    58.25   7.0  \n",
      "4     277    69.25  12.0  \n",
      "5     172    43.00  24.5  \n",
      "6     172    43.00  24.5  \n",
      "7     244    61.00  18.5  \n",
      "8     209    52.25  24.5  \n",
      "9     229    57.25  15.0  \n",
      "10    238    59.50  24.5  \n",
      "11    282    70.50  29.5  \n",
      "12    225    56.25  31.5  \n",
      "13    184    46.00   9.0  \n",
      "14    207    51.75  12.0  \n",
      "15    160    80.00   6.0  \n",
      "16    131    65.50   5.0  \n",
      "17    191    95.50   9.0  \n",
      "18    223   111.50  18.5  \n",
      "19    207   103.50  12.0  \n",
      "20    113    56.50   1.5  \n",
      "21    133    66.50   9.0  \n",
      "22    187    93.50  15.0  \n",
      "23    202   101.00  18.5  \n",
      "24    203   101.50  24.5  \n",
      "25    269   134.50  31.5  \n",
      "26    305   106.75  29.5  \n",
      "27    172    60.20  15.0  \n",
      "28    159    55.65  24.5  \n",
      "29    166    58.10  18.5  \n",
      "30    145    50.75  24.5  \n",
      "31    123    43.05  24.5  \n"
     ]
    }
   ],
   "source": [
    "def create_rank(dataset):\n",
    "    n_dataset = dataset\n",
    "    n_dataset['Rank'] = n_dataset['Temperature'].rank(ascending=1)\n",
    "    return n_dataset\n",
    "print(create_rank(lemonades))"
   ]
  },
  {
   "cell_type": "markdown",
   "metadata": {},
   "source": [
    "10. Imprima um gráfico de linha que retorne o lucro ao longo do tempo"
   ]
  },
  {
   "cell_type": "code",
   "execution_count": 76,
   "metadata": {},
   "outputs": [
    {
     "data": {
      "image/png": "[encoded data removed]",
      "text/plain": [
       "<Figure size 792x288 with 1 Axes>"
      ]
     },
     "metadata": {},
     "output_type": "display_data"
    }
   ],
   "source": [
    "import pandas as pd\n",
    "import matplotlib.pyplot as plt\n",
    "import seaborn as sns\n",
    "\n",
    "sns.set(rc={'figure.figsize':(11, 4)})\n",
    "\n",
    "if 'Date' in lemonades:\n",
    "    lemonades['Date'] = pd.to_datetime(lemonades['Date'])\n",
    "    lemonades = lemonades.set_index('Date')\n",
    "lemonade_plot = lemonades['Revenue'].plot(linewidth=0.5);\n",
    "\n",
    "lemonade_plot.set_ylabel('Revenue')\n",
    "lemonade_plot.set_title('Revenue over time');"
   ]
  },
  {
   "cell_type": "markdown",
   "metadata": {},
   "source": [
    "11. Crie um scatter-plot leaflets x sales. Existe alguma correlação entre os dados? (Use a correlação de Pearson e explique o significado do valor obtido por ela)"
   ]
  },
  {
   "cell_type": "markdown",
   "metadata": {},
   "source": [
    "12. Crie um histograma com 10 bins que mostre o lucro (revenue)."
   ]
  },
  {
   "cell_type": "code",
   "execution_count": 79,
   "metadata": {},
   "outputs": [
    {
     "data": {
      "image/png": "[encoded data removed]",
      "text/plain": [
       "<Figure size 792x288 with 1 Axes>"
      ]
     },
     "metadata": {},
     "output_type": "display_data"
    }
   ],
   "source": [
    "plt.hist(lemonades['Revenue'], bins=10, alpha=0.75)\n",
    "plt.xlabel('Revenue')\n",
    "plt.ylabel('Bin')\n",
    "plt.title(f'Histogram of Revenue')\n",
    "plt.show()"
   ]
  },
  {
   "cell_type": "markdown",
   "metadata": {},
   "source": [
    "13. Crie um gráfico de linha que mostre o lucro (Revenue) por tipo de fruta ao longo do tempo."
   ]
  },
  {
   "cell_type": "code",
   "execution_count": 83,
   "metadata": {},
   "outputs": [
    {
     "data": {
      "text/plain": [
       "Text(0.5, 1.0, 'Fruits over time')"
      ]
     },
     "execution_count": 83,
     "metadata": {},
     "output_type": "execute_result"
    },
    {
     "data": {
      "image/png": "[encoded data removed]",
      "text/plain": [
       "<Figure size 792x288 with 1 Axes>"
      ]
     },
     "metadata": {},
     "output_type": "display_data"
    }
   ],
   "source": [
    "#lemonades.head(5)\n",
    "fig, ax = plt.subplots()\n",
    "for fruit in ['Lemon', 'Orange']:\n",
    "    ax.plot(lemonades[fruit], label=fruit)\n",
    "ax.legend()\n",
    "ax.set_xlabel('Date')\n",
    "ax.set_ylabel('Fruits')\n",
    "ax.set_title('Fruits over time')"
   ]
  },
  {
   "cell_type": "markdown",
   "metadata": {},
   "source": [
    "14. Ajuste uma Regressão Linear aos dados para predizer vendas usando cada uma das features abaixo:\n",
    "    1. Temperature\n",
    "    2. Leaflets\n",
    "    3. Price\n",
    "    4. Retorne um gráfico com a reta ajustada aos dados para cada feature e diga se ela é uma variável boa ou não para predizer vendas."
   ]
  },
  {
   "cell_type": "markdown",
   "metadata": {},
   "source": [
    "15. Ajuste uma Regressão Linear aos dados para predizer vendas usando as três features juntas. Comente o resultado obtido."
   ]
  },
  {
   "cell_type": "markdown",
   "metadata": {},
   "source": [
    "16. Generalize o algoritmo de Regressão Linear implementada em sala para que ele possa ser usado para regressão multivariada."
   ]
  },
  {
   "cell_type": "markdown",
   "metadata": {},
   "source": [
    "17. Aplique o algoritmo implementado na questão 16 no conjunto de dados consumo_cerveja.csv usando as mesmas features para treinamento.\n",
    "    1. Compare os resultados que você obteve com os resultados obtidos através da Scikit Learning.\n",
    "    2. Prediga o consumo usando seu modelo e o modelo da sklearn.\n",
    "    3. Calcule o MSE de ambos"
   ]
  }
 ],
 "metadata": {
  "kernelspec": {
   "display_name": "Python 3",
   "language": "python",
   "name": "python3"
  },
  "language_info": {
   "codemirror_mode": {
    "name": "ipython",
    "version": 3
   },
   "file_extension": ".py",
   "mimetype": "text/x-python",
   "name": "python",
   "nbconvert_exporter": "python",
   "pygments_lexer": "ipython3",
   "version": "3.7.1"
  }
 },
 "nbformat": 4,
 "nbformat_minor": 4
}
