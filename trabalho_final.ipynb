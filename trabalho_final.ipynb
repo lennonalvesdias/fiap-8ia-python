{
 "cells": [
  {
   "cell_type": "markdown",
   "metadata": {},
   "source": [
    "# ![https://www.fiap.com.br/](https://img.shields.io/badge/FIAP-red.svg?longCache=true&style=for-the-badge) Programando IA com Python\n",
    "#### Lennon V. Alves Dias . RM 334415"
   ]
  },
  {
   "cell_type": "markdown",
   "metadata": {},
   "source": [
    "1. Leia o aquivo lemonades.csv usando pandas"
   ]
  },
  {
   "cell_type": "code",
   "execution_count": 1,
   "metadata": {},
   "outputs": [
    {
     "data": {
      "text/html": [
       "<div>\n",
       "<style scoped>\n",
       "    .dataframe tbody tr th:only-of-type {\n",
       "        vertical-align: middle;\n",
       "    }\n",
       "\n",
       "    .dataframe tbody tr th {\n",
       "        vertical-align: top;\n",
       "    }\n",
       "\n",
       "    .dataframe thead th {\n",
       "        text-align: right;\n",
       "    }\n",
       "</style>\n",
       "<table border=\"1\" class=\"dataframe\">\n",
       "  <thead>\n",
       "    <tr style=\"text-align: right;\">\n",
       "      <th></th>\n",
       "      <th>Date</th>\n",
       "      <th>Location</th>\n",
       "      <th>Lemon</th>\n",
       "      <th>Orange</th>\n",
       "      <th>Temperature</th>\n",
       "      <th>Leaflets</th>\n",
       "      <th>Price</th>\n",
       "    </tr>\n",
       "  </thead>\n",
       "  <tbody>\n",
       "    <tr>\n",
       "      <th>0</th>\n",
       "      <td>07/01/2016</td>\n",
       "      <td>Park</td>\n",
       "      <td>97</td>\n",
       "      <td>67</td>\n",
       "      <td>70</td>\n",
       "      <td>90.0</td>\n",
       "      <td>0.25</td>\n",
       "    </tr>\n",
       "    <tr>\n",
       "      <th>1</th>\n",
       "      <td>07/02/2016</td>\n",
       "      <td>Park</td>\n",
       "      <td>98</td>\n",
       "      <td>67</td>\n",
       "      <td>72</td>\n",
       "      <td>90.0</td>\n",
       "      <td>0.25</td>\n",
       "    </tr>\n",
       "    <tr>\n",
       "      <th>2</th>\n",
       "      <td>07/03/2016</td>\n",
       "      <td>Park</td>\n",
       "      <td>110</td>\n",
       "      <td>77</td>\n",
       "      <td>71</td>\n",
       "      <td>104.0</td>\n",
       "      <td>0.25</td>\n",
       "    </tr>\n",
       "  </tbody>\n",
       "</table>\n",
       "</div>"
      ],
      "text/plain": [
       "         Date Location  Lemon  Orange  Temperature  Leaflets  Price\n",
       "0  07/01/2016     Park     97      67           70      90.0   0.25\n",
       "1  07/02/2016     Park     98      67           72      90.0   0.25\n",
       "2  07/03/2016     Park    110      77           71     104.0   0.25"
      ]
     },
     "execution_count": 1,
     "metadata": {},
     "output_type": "execute_result"
    }
   ],
   "source": [
    "import pandas as pd\n",
    "lemonades = pd.read_csv('lemonades.csv', sep=';')\n",
    "lemonades.head(3)"
   ]
  },
  {
   "cell_type": "markdown",
   "metadata": {},
   "source": [
    "2. Retorne as informações sobre as colunas e as principais estatísticas sobre o dataset"
   ]
  },
  {
   "cell_type": "code",
   "execution_count": 2,
   "metadata": {},
   "outputs": [
    {
     "data": {
      "text/html": [
       "<div>\n",
       "<style scoped>\n",
       "    .dataframe tbody tr th:only-of-type {\n",
       "        vertical-align: middle;\n",
       "    }\n",
       "\n",
       "    .dataframe tbody tr th {\n",
       "        vertical-align: top;\n",
       "    }\n",
       "\n",
       "    .dataframe thead th {\n",
       "        text-align: right;\n",
       "    }\n",
       "</style>\n",
       "<table border=\"1\" class=\"dataframe\">\n",
       "  <thead>\n",
       "    <tr style=\"text-align: right;\">\n",
       "      <th></th>\n",
       "      <th>Lemon</th>\n",
       "      <th>Orange</th>\n",
       "      <th>Temperature</th>\n",
       "      <th>Leaflets</th>\n",
       "      <th>Price</th>\n",
       "    </tr>\n",
       "  </thead>\n",
       "  <tbody>\n",
       "    <tr>\n",
       "      <th>count</th>\n",
       "      <td>32.000000</td>\n",
       "      <td>32.000000</td>\n",
       "      <td>32.000000</td>\n",
       "      <td>31.000000</td>\n",
       "      <td>32.000000</td>\n",
       "    </tr>\n",
       "    <tr>\n",
       "      <th>mean</th>\n",
       "      <td>116.156250</td>\n",
       "      <td>80.000000</td>\n",
       "      <td>78.968750</td>\n",
       "      <td>108.548387</td>\n",
       "      <td>0.354687</td>\n",
       "    </tr>\n",
       "    <tr>\n",
       "      <th>std</th>\n",
       "      <td>25.823357</td>\n",
       "      <td>21.863211</td>\n",
       "      <td>4.067847</td>\n",
       "      <td>20.117718</td>\n",
       "      <td>0.113137</td>\n",
       "    </tr>\n",
       "    <tr>\n",
       "      <th>min</th>\n",
       "      <td>71.000000</td>\n",
       "      <td>42.000000</td>\n",
       "      <td>70.000000</td>\n",
       "      <td>68.000000</td>\n",
       "      <td>0.250000</td>\n",
       "    </tr>\n",
       "    <tr>\n",
       "      <th>25%</th>\n",
       "      <td>98.000000</td>\n",
       "      <td>66.750000</td>\n",
       "      <td>77.000000</td>\n",
       "      <td>90.000000</td>\n",
       "      <td>0.250000</td>\n",
       "    </tr>\n",
       "    <tr>\n",
       "      <th>50%</th>\n",
       "      <td>113.500000</td>\n",
       "      <td>76.500000</td>\n",
       "      <td>80.500000</td>\n",
       "      <td>108.000000</td>\n",
       "      <td>0.350000</td>\n",
       "    </tr>\n",
       "    <tr>\n",
       "      <th>75%</th>\n",
       "      <td>131.750000</td>\n",
       "      <td>95.000000</td>\n",
       "      <td>82.000000</td>\n",
       "      <td>124.000000</td>\n",
       "      <td>0.500000</td>\n",
       "    </tr>\n",
       "    <tr>\n",
       "      <th>max</th>\n",
       "      <td>176.000000</td>\n",
       "      <td>129.000000</td>\n",
       "      <td>84.000000</td>\n",
       "      <td>158.000000</td>\n",
       "      <td>0.500000</td>\n",
       "    </tr>\n",
       "  </tbody>\n",
       "</table>\n",
       "</div>"
      ],
      "text/plain": [
       "            Lemon      Orange  Temperature    Leaflets      Price\n",
       "count   32.000000   32.000000    32.000000   31.000000  32.000000\n",
       "mean   116.156250   80.000000    78.968750  108.548387   0.354687\n",
       "std     25.823357   21.863211     4.067847   20.117718   0.113137\n",
       "min     71.000000   42.000000    70.000000   68.000000   0.250000\n",
       "25%     98.000000   66.750000    77.000000   90.000000   0.250000\n",
       "50%    113.500000   76.500000    80.500000  108.000000   0.350000\n",
       "75%    131.750000   95.000000    82.000000  124.000000   0.500000\n",
       "max    176.000000  129.000000    84.000000  158.000000   0.500000"
      ]
     },
     "execution_count": 2,
     "metadata": {},
     "output_type": "execute_result"
    }
   ],
   "source": [
    "lemonades.describe()"
   ]
  },
  {
   "cell_type": "markdown",
   "metadata": {},
   "source": [
    "3. Realize a limpeza do dataset:\n",
    "    1. verifique se existe valores nulos\n",
    "    2. verifique e remova, se existir, linhas duplicadas\n",
    "    3. trate os elementos faltantes (interpolação (data) e media)"
   ]
  },
  {
   "cell_type": "code",
   "execution_count": 3,
   "metadata": {},
   "outputs": [
    {
     "name": "stdout",
     "output_type": "stream",
     "text": [
      "Date           1\n",
      "Location       0\n",
      "Lemon          0\n",
      "Orange         0\n",
      "Temperature    0\n",
      "Leaflets       1\n",
      "Price          0\n",
      "dtype: int64\n"
     ]
    }
   ],
   "source": [
    "import numpy as np\n",
    "from datetime import datetime\n",
    "print(lemonades.isnull().sum())\n",
    "lemonades.drop_duplicates()\n",
    "lemonades['Date'] = pd.to_datetime(lemonades['Date'], format=\"%m/%d/%Y\")\n",
    "tmp = lemonades['Date'].apply(lambda t: (t-datetime(1970,1,1)).total_seconds())\n",
    "tmp.interpolate(inplace=True)\n",
    "lemonades['Date'] = pd.to_datetime(tmp, unit='s')\n",
    "lemonades['Date'] = lemonades['Date'].apply(lambda t: t.date())\n",
    "lemonades.bfill(inplace=True)\n",
    "lemonades.head(10)\n",
    "lemonades['Location'].fillna(method ='ffill', inplace = True)\n",
    "lemonades['Lemon'].fillna(lemonades['Lemon'].mean(), inplace = True)\n",
    "lemonades['Orange'].fillna(lemonades['Orange'].mean(), inplace = True)\n",
    "lemonades['Temperature'].fillna(lemonades['Temperature'].mean(), inplace = True)\n",
    "lemonades['Leaflets'].fillna(lemonades['Leaflets'].mean(), inplace = True)\n",
    "lemonades['Price'].fillna(lemonades['Price'].mean(), inplace = True)"
   ]
  },
  {
   "cell_type": "markdown",
   "metadata": {},
   "source": [
    "4. Adicione uma coluna chamada \"Sales\" que contém o total de vendas de limão e laranja\n"
   ]
  },
  {
   "cell_type": "code",
   "execution_count": 4,
   "metadata": {},
   "outputs": [
    {
     "data": {
      "text/html": [
       "<div>\n",
       "<style scoped>\n",
       "    .dataframe tbody tr th:only-of-type {\n",
       "        vertical-align: middle;\n",
       "    }\n",
       "\n",
       "    .dataframe tbody tr th {\n",
       "        vertical-align: top;\n",
       "    }\n",
       "\n",
       "    .dataframe thead th {\n",
       "        text-align: right;\n",
       "    }\n",
       "</style>\n",
       "<table border=\"1\" class=\"dataframe\">\n",
       "  <thead>\n",
       "    <tr style=\"text-align: right;\">\n",
       "      <th></th>\n",
       "      <th>Date</th>\n",
       "      <th>Location</th>\n",
       "      <th>Lemon</th>\n",
       "      <th>Orange</th>\n",
       "      <th>Temperature</th>\n",
       "      <th>Leaflets</th>\n",
       "      <th>Price</th>\n",
       "      <th>Sales</th>\n",
       "    </tr>\n",
       "  </thead>\n",
       "  <tbody>\n",
       "    <tr>\n",
       "      <th>0</th>\n",
       "      <td>2016-07-01</td>\n",
       "      <td>Park</td>\n",
       "      <td>97</td>\n",
       "      <td>67</td>\n",
       "      <td>70</td>\n",
       "      <td>90.0</td>\n",
       "      <td>0.25</td>\n",
       "      <td>164</td>\n",
       "    </tr>\n",
       "    <tr>\n",
       "      <th>1</th>\n",
       "      <td>2016-07-02</td>\n",
       "      <td>Park</td>\n",
       "      <td>98</td>\n",
       "      <td>67</td>\n",
       "      <td>72</td>\n",
       "      <td>90.0</td>\n",
       "      <td>0.25</td>\n",
       "      <td>165</td>\n",
       "    </tr>\n",
       "    <tr>\n",
       "      <th>2</th>\n",
       "      <td>2016-07-03</td>\n",
       "      <td>Park</td>\n",
       "      <td>110</td>\n",
       "      <td>77</td>\n",
       "      <td>71</td>\n",
       "      <td>104.0</td>\n",
       "      <td>0.25</td>\n",
       "      <td>187</td>\n",
       "    </tr>\n",
       "  </tbody>\n",
       "</table>\n",
       "</div>"
      ],
      "text/plain": [
       "         Date Location  Lemon  Orange  Temperature  Leaflets  Price  Sales\n",
       "0  2016-07-01     Park     97      67           70      90.0   0.25    164\n",
       "1  2016-07-02     Park     98      67           72      90.0   0.25    165\n",
       "2  2016-07-03     Park    110      77           71     104.0   0.25    187"
      ]
     },
     "execution_count": 4,
     "metadata": {},
     "output_type": "execute_result"
    }
   ],
   "source": [
    "lemonades['Sales'] = lemonades['Lemon'] + lemonades['Orange']\n",
    "lemonades.head(3)"
   ]
  },
  {
   "cell_type": "markdown",
   "metadata": {},
   "source": [
    "5. Adicione uma coluna chamada \"Revenue\" que calcula o lucro (venda*preço)"
   ]
  },
  {
   "cell_type": "code",
   "execution_count": 5,
   "metadata": {},
   "outputs": [
    {
     "data": {
      "text/html": [
       "<div>\n",
       "<style scoped>\n",
       "    .dataframe tbody tr th:only-of-type {\n",
       "        vertical-align: middle;\n",
       "    }\n",
       "\n",
       "    .dataframe tbody tr th {\n",
       "        vertical-align: top;\n",
       "    }\n",
       "\n",
       "    .dataframe thead th {\n",
       "        text-align: right;\n",
       "    }\n",
       "</style>\n",
       "<table border=\"1\" class=\"dataframe\">\n",
       "  <thead>\n",
       "    <tr style=\"text-align: right;\">\n",
       "      <th></th>\n",
       "      <th>Date</th>\n",
       "      <th>Location</th>\n",
       "      <th>Lemon</th>\n",
       "      <th>Orange</th>\n",
       "      <th>Temperature</th>\n",
       "      <th>Leaflets</th>\n",
       "      <th>Price</th>\n",
       "      <th>Sales</th>\n",
       "      <th>Revenue</th>\n",
       "    </tr>\n",
       "  </thead>\n",
       "  <tbody>\n",
       "    <tr>\n",
       "      <th>0</th>\n",
       "      <td>2016-07-01</td>\n",
       "      <td>Park</td>\n",
       "      <td>97</td>\n",
       "      <td>67</td>\n",
       "      <td>70</td>\n",
       "      <td>90.0</td>\n",
       "      <td>0.25</td>\n",
       "      <td>164</td>\n",
       "      <td>41.00</td>\n",
       "    </tr>\n",
       "    <tr>\n",
       "      <th>1</th>\n",
       "      <td>2016-07-02</td>\n",
       "      <td>Park</td>\n",
       "      <td>98</td>\n",
       "      <td>67</td>\n",
       "      <td>72</td>\n",
       "      <td>90.0</td>\n",
       "      <td>0.25</td>\n",
       "      <td>165</td>\n",
       "      <td>41.25</td>\n",
       "    </tr>\n",
       "    <tr>\n",
       "      <th>2</th>\n",
       "      <td>2016-07-03</td>\n",
       "      <td>Park</td>\n",
       "      <td>110</td>\n",
       "      <td>77</td>\n",
       "      <td>71</td>\n",
       "      <td>104.0</td>\n",
       "      <td>0.25</td>\n",
       "      <td>187</td>\n",
       "      <td>46.75</td>\n",
       "    </tr>\n",
       "  </tbody>\n",
       "</table>\n",
       "</div>"
      ],
      "text/plain": [
       "         Date Location  Lemon  Orange  Temperature  Leaflets  Price  Sales  \\\n",
       "0  2016-07-01     Park     97      67           70      90.0   0.25    164   \n",
       "1  2016-07-02     Park     98      67           72      90.0   0.25    165   \n",
       "2  2016-07-03     Park    110      77           71     104.0   0.25    187   \n",
       "\n",
       "   Revenue  \n",
       "0    41.00  \n",
       "1    41.25  \n",
       "2    46.75  "
      ]
     },
     "execution_count": 5,
     "metadata": {},
     "output_type": "execute_result"
    }
   ],
   "source": [
    "lemonades['Revenue'] = lemonades['Price'] * lemonades['Sales']\n",
    "lemonades.head(3)"
   ]
  },
  {
   "cell_type": "markdown",
   "metadata": {},
   "source": [
    "6. Escreva uma função que retorne o lucro total"
   ]
  },
  {
   "cell_type": "code",
   "execution_count": 6,
   "metadata": {},
   "outputs": [
    {
     "data": {
      "text/plain": [
       "'Total: 2181.0'"
      ]
     },
     "execution_count": 6,
     "metadata": {},
     "output_type": "execute_result"
    }
   ],
   "source": [
    "def get_total(dataset, field):\n",
    "    return f'Total: {dataset[field].sum()}'\n",
    "get_total(lemonades, 'Revenue')"
   ]
  },
  {
   "cell_type": "markdown",
   "metadata": {},
   "source": [
    "7. Escreva uma função que receba dois parâmetros, dataset e temp(int). Se temp for 1, ele retorna a máxima temperatura observada no conjunto de dados; se 0, retorna a média do período observado; se -1, retorna a temperatura mínima."
   ]
  },
  {
   "cell_type": "code",
   "execution_count": 7,
   "metadata": {},
   "outputs": [
    {
     "name": "stdout",
     "output_type": "stream",
     "text": [
      "max: 84 mean: 78 min: 70\n"
     ]
    }
   ],
   "source": [
    "def my_func(dataset, temp):\n",
    "    return dataset['Temperature'].max() if temp == 1 else (int(dataset['Temperature'].mean()) if temp == 0 else (dataset['Temperature'].min() if temp == -1 else 'Invalid Temperature'))\n",
    "temp_max = my_func(lemonades, 1)\n",
    "temp_mean = my_func(lemonades, 0)\n",
    "temp_min = my_func(lemonades, -1)\n",
    "print(f'max: {temp_max}', f'mean: {temp_mean}', f'min: {temp_min}')"
   ]
  },
  {
   "cell_type": "markdown",
   "metadata": {},
   "source": [
    "8. Escreva uma função que receba dois parâmetros (dataset, localização) e retorne o dataset com o preço do limão e laranja ajustados em 15% se a localização for 'Park' ou ajustados em 10% se a localização for 'Beach'."
   ]
  },
  {
   "cell_type": "code",
   "execution_count": 8,
   "metadata": {},
   "outputs": [
    {
     "name": "stdout",
     "output_type": "stream",
     "text": [
      "         Date Location  Lemon  Orange  Temperature  Leaflets  Price  Sales  \\\n",
      "0  2016-07-01     Park     97      67           70      90.0   0.25    164   \n",
      "1  2016-07-02     Park     98      67           72      90.0   0.25    165   \n",
      "2  2016-07-03     Park    110      77           71     104.0   0.25    187   \n",
      "\n",
      "   Revenue  \n",
      "0    41.00  \n",
      "1    41.25  \n",
      "2    46.75  \n",
      "         Date Location  Lemon  Orange  Temperature  Leaflets  Price  Sales  \\\n",
      "0  2016-07-01     Park     97      67           70      90.0  0.275    164   \n",
      "1  2016-07-02     Park     98      67           72      90.0  0.275    165   \n",
      "2  2016-07-03     Park    110      77           71     104.0  0.275    187   \n",
      "\n",
      "   Revenue  \n",
      "0    41.00  \n",
      "1    41.25  \n",
      "2    46.75  \n",
      "         Date Location  Lemon  Orange  Temperature  Leaflets    Price  Sales  \\\n",
      "0  2016-07-01     Park     97      67           70      90.0  0.31625    164   \n",
      "1  2016-07-02     Park     98      67           72      90.0  0.31625    165   \n",
      "2  2016-07-03     Park    110      77           71     104.0  0.31625    187   \n",
      "\n",
      "   Revenue  \n",
      "0    41.00  \n",
      "1    41.25  \n",
      "2    46.75  \n"
     ]
    }
   ],
   "source": [
    "def my_func(dataset, location):\n",
    "    n_dataset = dataset\n",
    "    if location == 'Park':\n",
    "        n_dataset['Price'] = dataset['Price'] * 1.15\n",
    "    elif location == 'Beach':\n",
    "        n_dataset['Price'] = dataset['Price'] * 1.1\n",
    "    return n_dataset\n",
    "print(my_func(lemonades, 'Other').head(3))\n",
    "print(my_func(lemonades, 'Beach').head(3))\n",
    "print(my_func(lemonades, 'Park').head(3))"
   ]
  },
  {
   "cell_type": "markdown",
   "metadata": {},
   "source": [
    "9. Escreva uma função que receba o dataset como parâmetro e retorne o dataset com uma coluna a mais que mostre o rank de temperatura. O dataset retornado precisa estar ordenado de acordo com rank (descendente)"
   ]
  },
  {
   "cell_type": "code",
   "execution_count": 9,
   "metadata": {},
   "outputs": [
    {
     "name": "stdout",
     "output_type": "stream",
     "text": [
      "          Date Location  Lemon  Orange  Temperature  Leaflets    Price  Sales  \\\n",
      "0   2016-07-01     Park     97      67           70      90.0  0.31625    164   \n",
      "1   2016-07-02     Park     98      67           72      90.0  0.31625    165   \n",
      "2   2016-07-03     Park    110      77           71     104.0  0.31625    187   \n",
      "3   2016-07-04    Beach    134      99           76      98.0  0.31625    233   \n",
      "4   2016-07-05    Beach    159     118           78     135.0  0.31625    277   \n",
      "5   2016-07-06    Beach    103      69           82      90.0  0.31625    172   \n",
      "6   2016-07-06    Beach    103      69           82      90.0  0.31625    172   \n",
      "7   2016-07-07    Beach    143     101           81     135.0  0.31625    244   \n",
      "8   2016-07-08    Beach    123      86           82     113.0  0.31625    209   \n",
      "9   2016-07-09    Beach    134      95           80     126.0  0.31625    229   \n",
      "10  2016-07-10    Beach    140      98           82     131.0  0.31625    238   \n",
      "11  2016-07-11    Beach    162     120           83     135.0  0.31625    282   \n",
      "12  2016-07-12    Beach    130      95           84      99.0  0.31625    225   \n",
      "13  2016-07-13    Beach    109      75           77      99.0  0.31625    184   \n",
      "14  2016-07-14    Beach    122      85           78     113.0  0.31625    207   \n",
      "15  2016-07-15    Beach     98      62           75     108.0  0.63250    160   \n",
      "16  2016-07-16    Beach     81      50           74      90.0  0.63250    131   \n",
      "17  2016-07-17    Beach    115      76           77     126.0  0.63250    191   \n",
      "18  2016-07-18     Park    131      92           81     122.0  0.63250    223   \n",
      "19  2016-07-19     Park    122      85           78     113.0  0.63250    207   \n",
      "20  2016-07-20     Park     71      42           70      90.0  0.63250    113   \n",
      "21  2016-07-21     Park     83      50           77      90.0  0.63250    133   \n",
      "22  2016-07-22     Park    112      75           80     108.0  0.63250    187   \n",
      "23  2016-07-23     Park    120      82           81     117.0  0.63250    202   \n",
      "24  2016-07-24     Park    121      82           82     117.0  0.63250    203   \n",
      "25  2016-07-25     Park    156     113           84     135.0  0.63250    269   \n",
      "26  2016-07-26     Park    176     129           83     158.0  0.44275    305   \n",
      "27  2016-07-27     Park    104      68           80      99.0  0.44275    172   \n",
      "28  2016-07-28     Park     96      63           82      90.0  0.44275    159   \n",
      "29  2016-07-29     Park    100      66           81      95.0  0.44275    166   \n",
      "30  2016-07-30    Beach     88      57           82      81.0  0.44275    145   \n",
      "31  2016-07-31    Beach     76      47           82      68.0  0.44275    123   \n",
      "\n",
      "    Revenue  Rank  \n",
      "0     41.00   1.5  \n",
      "1     41.25   4.0  \n",
      "2     46.75   3.0  \n",
      "3     58.25   7.0  \n",
      "4     69.25  12.0  \n",
      "5     43.00  24.5  \n",
      "6     43.00  24.5  \n",
      "7     61.00  18.5  \n",
      "8     52.25  24.5  \n",
      "9     57.25  15.0  \n",
      "10    59.50  24.5  \n",
      "11    70.50  29.5  \n",
      "12    56.25  31.5  \n",
      "13    46.00   9.0  \n",
      "14    51.75  12.0  \n",
      "15    80.00   6.0  \n",
      "16    65.50   5.0  \n",
      "17    95.50   9.0  \n",
      "18   111.50  18.5  \n",
      "19   103.50  12.0  \n",
      "20    56.50   1.5  \n",
      "21    66.50   9.0  \n",
      "22    93.50  15.0  \n",
      "23   101.00  18.5  \n",
      "24   101.50  24.5  \n",
      "25   134.50  31.5  \n",
      "26   106.75  29.5  \n",
      "27    60.20  15.0  \n",
      "28    55.65  24.5  \n",
      "29    58.10  18.5  \n",
      "30    50.75  24.5  \n",
      "31    43.05  24.5  \n"
     ]
    }
   ],
   "source": [
    "def create_rank(dataset):\n",
    "    n_dataset = dataset\n",
    "    n_dataset['Rank'] = n_dataset['Temperature'].rank(ascending=1)\n",
    "    return n_dataset\n",
    "print(create_rank(lemonades))"
   ]
  },
  {
   "cell_type": "markdown",
   "metadata": {},
   "source": [
    "10. Imprima um gráfico de linha que retorne o lucro ao longo do tempo"
   ]
  },
  {
   "cell_type": "code",
   "execution_count": 10,
   "metadata": {},
   "outputs": [
    {
     "data": {
      "text/plain": [
       "Text(0.5, 1.0, 'Revenue over time')"
      ]
     },
     "execution_count": 10,
     "metadata": {},
     "output_type": "execute_result"
    }
   ],
   "source": [
    "import matplotlib.pyplot as plt\n",
    "import seaborn as sns\n",
    "\n",
    "sns.set(rc={'figure.figsize':(11, 4)})\n",
    "\n",
    "if 'Date' in lemonades:\n",
    "    lemonades['Date'] = pd.to_datetime(lemonades['Date'])\n",
    "    lemonades = lemonades.set_index('Date')\n",
    "lemonade_plot = lemonades['Revenue'].plot(linewidth=0.5);\n",
    "\n",
    "lemonade_plot.set_ylabel('Revenue')\n",
    "lemonade_plot.set_title('Revenue over time')"
   ]
  },
  {
   "cell_type": "markdown",
   "metadata": {},
   "source": [
    "11. Crie um scatter-plot leaflets x sales. Existe alguma correlação entre os dados? (Use a correlação de Pearson e explique o significado do valor obtido por ela)"
   ]
  },
  {
   "cell_type": "code",
   "execution_count": 11,
   "metadata": {},
   "outputs": [
    {
     "data": {
      "image/png": "[encoded data removed]",
      "text/plain": [
       "<Figure size 432x288 with 1 Axes>"
      ]
     },
     "metadata": {
      "needs_background": "light"
     },
     "output_type": "display_data"
    },
    {
     "name": "stdout",
     "output_type": "stream",
     "text": [
      "Existe correção forte (0.8857018981042033) entre Leaflets e Sales\n"
     ]
    }
   ],
   "source": [
    "plt.scatter(lemonades['Leaflets'], lemonades['Sales'])\n",
    "plt.title('Leaflets x Sales')\n",
    "plt.xlabel('Leaflets')\n",
    "plt.ylabel('Sales')\n",
    "plt.show()\n",
    "\n",
    "from scipy import stats\n",
    "cor_pearson = stats.pearsonr(lemonades['Leaflets'], lemonades['Sales'])\n",
    "print(f'Existe correção forte ({cor_pearson[0]}) entre Leaflets e Sales')"
   ]
  },
  {
   "cell_type": "markdown",
   "metadata": {},
   "source": [
    "12. Crie um histograma com 10 bins que mostre o lucro (revenue)."
   ]
  },
  {
   "cell_type": "code",
   "execution_count": 12,
   "metadata": {},
   "outputs": [
    {
     "data": {
      "image/png": "[encoded data removed]",
      "text/plain": [
       "<Figure size 432x288 with 1 Axes>"
      ]
     },
     "metadata": {
      "needs_background": "light"
     },
     "output_type": "display_data"
    }
   ],
   "source": [
    "plt.hist(lemonades['Revenue'], bins=10, alpha=0.75)\n",
    "plt.xlabel('Revenue')\n",
    "plt.ylabel('Bin')\n",
    "plt.title(f'Histogram of Revenue')\n",
    "plt.show()"
   ]
  },
  {
   "cell_type": "markdown",
   "metadata": {},
   "source": [
    "13. Crie um gráfico de linha que mostre o lucro (Revenue) por tipo de fruta ao longo do tempo."
   ]
  },
  {
   "cell_type": "code",
   "execution_count": 13,
   "metadata": {},
   "outputs": [
    {
     "data": {
      "text/plain": [
       "Text(0.5, 1.0, 'Fruits over time')"
      ]
     },
     "execution_count": 13,
     "metadata": {},
     "output_type": "execute_result"
    },
    {
     "data": {
      "image/png": "[encoded data removed]",
      "text/plain": [
       "<Figure size 432x288 with 1 Axes>"
      ]
     },
     "metadata": {
      "needs_background": "light"
     },
     "output_type": "display_data"
    }
   ],
   "source": [
    "#lemonades.head(5)\n",
    "fig, ax = plt.subplots()\n",
    "for fruit in ['Lemon', 'Orange']:\n",
    "    ax.plot(lemonades[fruit], label=fruit)\n",
    "ax.legend()\n",
    "ax.set_xlabel('Date')\n",
    "ax.set_ylabel('Fruits')\n",
    "ax.set_title('Fruits over time')"
   ]
  },
  {
   "cell_type": "markdown",
   "metadata": {},
   "source": [
    "14. Ajuste uma Regressão Linear aos dados para predizer vendas usando cada uma das features abaixo:\n",
    "    1. Temperature\n",
    "    2. Leaflets\n",
    "    3. Price\n",
    "    4. Retorne um gráfico com a reta ajustada aos dados para cada feature e diga se ela é uma variável boa ou não para predizer vendas."
   ]
  },
  {
   "cell_type": "code",
   "execution_count": 14,
   "metadata": {},
   "outputs": [],
   "source": [
    "from sklearn.model_selection import train_test_split\n",
    "from sklearn import linear_model\n",
    "from sklearn.metrics import mean_squared_error\n",
    "\n",
    "def show_regression(dataset, x_values, y_values, show_plot = True):\n",
    "    X = dataset[x_values].values\n",
    "    y = dataset[y_values].values\n",
    "    split_test_size = 0.30\n",
    "    X_train, X_test, y_train, y_test = train_test_split(X, y, test_size=split_test_size, random_state=42)\n",
    "    lr_model = linear_model.LinearRegression()\n",
    "    lr_model.fit(X_train, y_train.ravel())\n",
    "    y_pred = lr_model.predict(X_test)\n",
    "    print(f'MSE: {mean_squared_error(y_test,y_pred)}')\n",
    "    if show_plot == False: return\n",
    "    plt.scatter(X_test[:,0], y_test,  color='black')\n",
    "    plt.plot(X_test[:,0], y_pred, color='red', linewidth=3)\n",
    "    plt.xlabel(' '.join(x_values))\n",
    "    plt.ylabel(' '.join(y_values))\n",
    "    plt.title(f'Linear Regression {\" \".join(x_values)} x {\" \".join(y_values)}')\n",
    "    plt.show()"
   ]
  },
  {
   "cell_type": "code",
   "execution_count": 15,
   "metadata": {},
   "outputs": [
    {
     "name": "stdout",
     "output_type": "stream",
     "text": [
      "MSE: 1000.2582961134916\n"
     ]
    },
    {
     "data": {
      "image/png": "[encoded data removed]",
      "text/plain": [
       "<Figure size 432x288 with 1 Axes>"
      ]
     },
     "metadata": {
      "needs_background": "light"
     },
     "output_type": "display_data"
    }
   ],
   "source": [
    "show_regression(lemonades, ['Temperature'], ['Sales'])"
   ]
  },
  {
   "cell_type": "code",
   "execution_count": 1,
   "metadata": {},
   "outputs": [
    {
     "name": "stdout",
     "output_type": "stream",
     "text": [
      "Os pontos estão distantes à reta, não apresentando ser uma boa varíavel\n"
     ]
    }
   ],
   "source": [
    "print (\"Os pontos estão distantes à reta, não apresentando ser uma boa varíavel\")"
   ]
  },
  {
   "cell_type": "code",
   "execution_count": 16,
   "metadata": {},
   "outputs": [
    {
     "name": "stdout",
     "output_type": "stream",
     "text": [
      "MSE: 634.381008770554\n"
     ]
    },
    {
     "data": {
      "image/png": "[encoded data removed]",
      "text/plain": [
       "<Figure size 432x288 with 1 Axes>"
      ]
     },
     "metadata": {
      "needs_background": "light"
     },
     "output_type": "display_data"
    }
   ],
   "source": [
    "show_regression(lemonades, ['Leaflets'], ['Sales'])"
   ]
  },
  {
   "cell_type": "code",
   "execution_count": 2,
   "metadata": {},
   "outputs": [
    {
     "name": "stdout",
     "output_type": "stream",
     "text": [
      "A variável 'leaflets' apresenta uma ligeira melhora em relação à variável 'temperature', porém os pontos ainda estão distantes.\n"
     ]
    }
   ],
   "source": [
    "print(\"A variável 'leaflets' apresenta uma ligeira melhora em relação à variável 'temperature', porém os pontos ainda estão distantes.\")"
   ]
  },
  {
   "cell_type": "code",
   "execution_count": 17,
   "metadata": {},
   "outputs": [
    {
     "name": "stdout",
     "output_type": "stream",
     "text": [
      "MSE: 1788.0740960215905\n"
     ]
    },
    {
     "data": {
      "image/png": "[encoded data removed]",
      "text/plain": [
       "<Figure size 432x288 with 1 Axes>"
      ]
     },
     "metadata": {
      "needs_background": "light"
     },
     "output_type": "display_data"
    }
   ],
   "source": [
    "show_regression(lemonades, ['Price'], ['Sales'])"
   ]
  },
  {
   "cell_type": "code",
   "execution_count": 3,
   "metadata": {},
   "outputs": [
    {
     "name": "stdout",
     "output_type": "stream",
     "text": [
      "Esta apresentou o maior erro de acordo com os cálculos apresentados, não sendo também uma boa variável. É possível ver que os pontos estão bem distantes da reta.\n"
     ]
    }
   ],
   "source": [
    "print(\"Esta apresentou o maior erro de acordo com os cálculos apresentados, não sendo também uma boa variável. É possível ver que os pontos estão bem distantes da reta.\")"
   ]
  },
  {
   "cell_type": "code",
   "execution_count": 18,
   "metadata": {},
   "outputs": [
    {
     "name": "stdout",
     "output_type": "stream",
     "text": [
      "Analisando os erros quadráticos (MSE), os valores estão distantes do 0. Isso pode indicar que as variaveis, individualmente, possuem um alto erro ao predizer valores. Sendo assim, identifica-se que não são boas.\n"
     ]
    }
   ],
   "source": [
    "print('Analisando os erros quadráticos (MSE), os valores estão distantes do 0. Isso pode indicar que as variaveis, individualmente, possuem um alto erro ao predizer valores. Sendo assim, identifica-se que não são boas.')"
   ]
  },
  {
   "cell_type": "markdown",
   "metadata": {},
   "source": [
    "15. Ajuste uma Regressão Linear aos dados para predizer vendas usando as três features juntas. Comente o resultado obtido."
   ]
  },
  {
   "cell_type": "code",
   "execution_count": 19,
   "metadata": {},
   "outputs": [
    {
     "name": "stdout",
     "output_type": "stream",
     "text": [
      "MSE: 290.35871124586936\n"
     ]
    }
   ],
   "source": [
    "show_regression(lemonades, ['Temperature', 'Leaflets', 'Price'], ['Sales'], False)"
   ]
  },
  {
   "cell_type": "code",
   "execution_count": 20,
   "metadata": {},
   "outputs": [
    {
     "name": "stdout",
     "output_type": "stream",
     "text": [
      "Analisando o MSE, com o agrupamento das três features, o erro está mais próximo ao zero. Ainda sendo um valor considerável (podendo ser pela pouca quantidade de dados ou falta de outras features), o resultado está mais próximo de ser identificado como uma boa predição de venda.\n"
     ]
    }
   ],
   "source": [
    "print('Analisando o MSE, com o agrupamento das três features, o erro está mais próximo ao zero. Ainda sendo um valor considerável (podendo ser pela pouca quantidade de dados ou falta de outras features), o resultado está mais próximo de ser identificado como uma boa predição de venda.')"
   ]
  },
  {
   "cell_type": "markdown",
   "metadata": {},
   "source": [
    "16. Generalize o algoritmo de Regressão Linear implementada em sala para que ele possa ser usado para regressão multivariada."
   ]
  },
  {
   "cell_type": "code",
   "execution_count": 21,
   "metadata": {},
   "outputs": [],
   "source": [
    "class LinearRegression():\n",
    "    \n",
    "    def cost_function(self,X,y,theta):\n",
    "        m = len(y) #número de amostras\n",
    "        J = 0 # custo\n",
    "        \n",
    "        X_columns = range(len(X.columns))\n",
    "        \n",
    "        for xc in X_columns[1:]:\n",
    "            for i in range(m):\n",
    "                J = J + np.power((theta[0] + theta[1] * X[xc][i] - y[i]),2)\n",
    "        \n",
    "        return J*(1/(2*m))\n",
    "    \n",
    "    def gradient_descent(self,X,y,theta,alpha,num_iter):\n",
    "        m = len(y)\n",
    "        J_history = np.zeros(num_iter)\n",
    "        temp0 = 0\n",
    "        temp1 = 0\n",
    "        \n",
    "        X_columns = range(len(X.columns))\n",
    "        \n",
    "        for xc in X_columns[1:]:\n",
    "            for k in range(num_iter):        \n",
    "                for i in range(m):\n",
    "                    temp0 = temp0 - alpha * (1/m * (theta[0] + theta[1] * X[xc][i] - y[i]))\n",
    "                    temp1 = temp1 - alpha * (1/m * (theta[0] + theta[1] * X[xc][i] - y[i]))*X[xc][i]\n",
    "                    theta[0] = temp0\n",
    "                    theta[1] = temp1\n",
    "\n",
    "                J_history[k] = self.cost_function(X,y,theta)\n",
    "    \n",
    "        return theta,J_history"
   ]
  },
  {
   "cell_type": "markdown",
   "metadata": {},
   "source": [
    "17. Aplique o algoritmo implementado na questão 16 no conjunto de dados consumo_cerveja.csv usando as mesmas features para treinamento.\n",
    "    1. Compare os resultados que você obteve com os resultados obtidos através da Scikit Learning.\n",
    "    2. Prediga o consumo usando seu modelo e o modelo da sklearn.\n",
    "    3. Calcule o MSE de ambos"
   ]
  },
  {
   "cell_type": "code",
   "execution_count": 22,
   "metadata": {},
   "outputs": [
    {
     "data": {
      "text/html": [
       "<div>\n",
       "<style scoped>\n",
       "    .dataframe tbody tr th:only-of-type {\n",
       "        vertical-align: middle;\n",
       "    }\n",
       "\n",
       "    .dataframe tbody tr th {\n",
       "        vertical-align: top;\n",
       "    }\n",
       "\n",
       "    .dataframe thead th {\n",
       "        text-align: right;\n",
       "    }\n",
       "</style>\n",
       "<table border=\"1\" class=\"dataframe\">\n",
       "  <thead>\n",
       "    <tr style=\"text-align: right;\">\n",
       "      <th></th>\n",
       "      <th>Data</th>\n",
       "      <th>Temperatura Media (C)</th>\n",
       "      <th>Temperatura Minima (C)</th>\n",
       "      <th>Temperatura Maxima (C)</th>\n",
       "      <th>Precipitacao (mm)</th>\n",
       "      <th>Final de Semana</th>\n",
       "      <th>Consumo de cerveja (litros)</th>\n",
       "    </tr>\n",
       "  </thead>\n",
       "  <tbody>\n",
       "    <tr>\n",
       "      <th>0</th>\n",
       "      <td>01/01/2015</td>\n",
       "      <td>27.30</td>\n",
       "      <td>23.9</td>\n",
       "      <td>32.5</td>\n",
       "      <td>0.0</td>\n",
       "      <td>0</td>\n",
       "      <td>25.461</td>\n",
       "    </tr>\n",
       "    <tr>\n",
       "      <th>1</th>\n",
       "      <td>02/01/2015</td>\n",
       "      <td>27.02</td>\n",
       "      <td>24.5</td>\n",
       "      <td>33.5</td>\n",
       "      <td>0.0</td>\n",
       "      <td>0</td>\n",
       "      <td>28.972</td>\n",
       "    </tr>\n",
       "    <tr>\n",
       "      <th>2</th>\n",
       "      <td>03/01/2015</td>\n",
       "      <td>24.82</td>\n",
       "      <td>22.4</td>\n",
       "      <td>29.9</td>\n",
       "      <td>0.0</td>\n",
       "      <td>1</td>\n",
       "      <td>30.814</td>\n",
       "    </tr>\n",
       "  </tbody>\n",
       "</table>\n",
       "</div>"
      ],
      "text/plain": [
       "         Data  Temperatura Media (C)  Temperatura Minima (C)  \\\n",
       "0  01/01/2015                  27.30                    23.9   \n",
       "1  02/01/2015                  27.02                    24.5   \n",
       "2  03/01/2015                  24.82                    22.4   \n",
       "\n",
       "   Temperatura Maxima (C)  Precipitacao (mm)  Final de Semana  \\\n",
       "0                    32.5                0.0                0   \n",
       "1                    33.5                0.0                0   \n",
       "2                    29.9                0.0                1   \n",
       "\n",
       "   Consumo de cerveja (litros)  \n",
       "0                       25.461  \n",
       "1                       28.972  \n",
       "2                       30.814  "
      ]
     },
     "execution_count": 22,
     "metadata": {},
     "output_type": "execute_result"
    }
   ],
   "source": [
    "beer = pd.read_csv('./consumo_cerveja.csv', sep=';')\n",
    "beer.head(3)"
   ]
  },
  {
   "cell_type": "code",
   "execution_count": 25,
   "metadata": {},
   "outputs": [],
   "source": [
    "x = beer.iloc[0:,1:6]\n",
    "ones = np.ones(len(beer))\n",
    "x.insert(0, len(x.columns) + 1, ones)\n",
    "y = beer.iloc[:,6]\n",
    "theta = np.zeros(len(x.columns))\n",
    "x.columns = range(x.shape[1])\n",
    "iterations = 1500\n",
    "alpha = 0.01"
   ]
  },
  {
   "cell_type": "code",
   "execution_count": 26,
   "metadata": {},
   "outputs": [],
   "source": [
    "lr = LinearRegression()"
   ]
  },
  {
   "cell_type": "code",
   "execution_count": 29,
   "metadata": {},
   "outputs": [
    {
     "name": "stdout",
     "output_type": "stream",
     "text": [
      "383.9376429647404\n"
     ]
    }
   ],
   "source": [
    "custo = lr.cost_function(x,y,theta)\n",
    "print(custo)"
   ]
  },
  {
   "cell_type": "code",
   "execution_count": 31,
   "metadata": {},
   "outputs": [
    {
     "name": "stdout",
     "output_type": "stream",
     "text": [
      "[24.10728603  4.6141423   0.          0.          0.          0.        ]\n"
     ]
    }
   ],
   "source": [
    "theta_lr, custo_h = lr.gradient_descent(x,y,theta,alpha,iterations)\n",
    "print(theta_lr)"
   ]
  },
  {
   "cell_type": "code",
   "execution_count": 32,
   "metadata": {},
   "outputs": [],
   "source": [
    "Yfit = np.matmul(x.values, theta_lr)"
   ]
  },
  {
   "cell_type": "code",
   "execution_count": 33,
   "metadata": {},
   "outputs": [
    {
     "name": "stdout",
     "output_type": "stream",
     "text": [
      "MSE: 9500.749569503103\n"
     ]
    }
   ],
   "source": [
    "print(f'MSE: {mean_squared_error(y, Yfit)}')"
   ]
  },
  {
   "cell_type": "code",
   "execution_count": 34,
   "metadata": {},
   "outputs": [
    {
     "name": "stdout",
     "output_type": "stream",
     "text": [
      "MSE: 6.7237231503018435\n"
     ]
    }
   ],
   "source": [
    "show_regression(beer, ['Temperatura Media (C)', 'Temperatura Minima (C)', 'Precipitacao (mm)', 'Final de Semana'], ['Consumo de cerveja (litros)'], False)"
   ]
  },
  {
   "cell_type": "code",
   "execution_count": null,
   "metadata": {},
   "outputs": [],
   "source": []
  }
 ],
 "metadata": {
  "kernelspec": {
   "display_name": "Python 3",
   "language": "python",
   "name": "python3"
  },
  "language_info": {
   "codemirror_mode": {
    "name": "ipython",
    "version": 3
   },
   "file_extension": ".py",
   "mimetype": "text/x-python",
   "name": "python",
   "nbconvert_exporter": "python",
   "pygments_lexer": "ipython3",
   "version": "3.7.1"
  }
 },
 "nbformat": 4,
 "nbformat_minor": 4
}
