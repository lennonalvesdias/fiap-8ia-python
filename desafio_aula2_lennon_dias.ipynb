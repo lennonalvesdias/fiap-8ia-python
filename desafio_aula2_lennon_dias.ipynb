{
 "cells": [
  {
   "cell_type": "markdown",
   "metadata": {},
   "source": [
    "# Exercícios"
   ]
  },
  {
   "cell_type": "markdown",
   "metadata": {},
   "source": [
    "## 1) Escreva uma função que verifique se há uma letra no começo de uma frase. Se houver, retorne True, caso contrário, retorne False. "
   ]
  },
  {
   "cell_type": "code",
   "execution_count": 26,
   "metadata": {},
   "outputs": [
    {
     "name": "stdout",
     "output_type": "stream",
     "text": [
      "True\n",
      "False\n"
     ]
    }
   ],
   "source": [
    "# resposta 1\n",
    "import re\n",
    "\n",
    "def isLetter(input):\n",
    "    pattern = re.compile(\"[a-zA-Z]\")\n",
    "    return True if pattern.match(input) else False\n",
    "\n",
    "print(isLetter(\"teste1\"))\n",
    "print(isLetter(\"1teste\"))"
   ]
  },
  {
   "cell_type": "markdown",
   "metadata": {},
   "source": [
    "## 2) Reescreva a seguinte função usando:\n",
    "    -> map e lambda\n",
    "    -> list comprehension"
   ]
  },
  {
   "cell_type": "code",
   "execution_count": null,
   "metadata": {},
   "outputs": [],
   "source": [
    "squares = []\n",
    "for x in range(10):\n",
    "    squares.append(x**2)\n",
    "    \n",
    "print(squares)"
   ]
  },
  {
   "cell_type": "code",
   "execution_count": 28,
   "metadata": {},
   "outputs": [
    {
     "name": "stdout",
     "output_type": "stream",
     "text": [
      "[0, 1, 4, 9, 16, 25, 36, 49, 64, 81]\n"
     ]
    }
   ],
   "source": [
    "# resposta 2-a\n",
    "squared = list(map(lambda x: x**2, range(10)))\n",
    "print(squared)"
   ]
  },
  {
   "cell_type": "code",
   "execution_count": 29,
   "metadata": {},
   "outputs": [
    {
     "name": "stdout",
     "output_type": "stream",
     "text": [
      "[0, 1, 4, 9, 16, 25, 36, 49, 64, 81]\n"
     ]
    }
   ],
   "source": [
    "# resposta 2-b\n",
    "squared = [x**2 for x in range(10)]\n",
    "print(squared)"
   ]
  },
  {
   "cell_type": "markdown",
   "metadata": {},
   "source": [
    "## 3) Escreva em Python uma função que, dadas duas listas não vazias e de mesmo comprimento, retorne como resultado uma nova lista contendo em cada posição a soma dos elementos correspondentes nas duas listas recebidas.\n",
    "    -> l1 = [1,2,3,4,5]\n",
    "    -> l2 = [1,2,3,4,5]\n",
    "    -> resultado = [2,4,6,8,10]"
   ]
  },
  {
   "cell_type": "code",
   "execution_count": 67,
   "metadata": {},
   "outputs": [
    {
     "name": "stdout",
     "output_type": "stream",
     "text": [
      "[2, 5, 6, 8, 10]\n"
     ]
    }
   ],
   "source": [
    "# resposta 3\n",
    "def sum_list(l1, l2):\n",
    "    return list(map(lambda x,y: x+y, l1, l2))\n",
    "print(sum_list([1,2,3,4,5], [1,2,3,4,5]))"
   ]
  },
  {
   "cell_type": "markdown",
   "metadata": {},
   "source": [
    "## 4) A amplitude de um vetor 3D é dado pela seguinte fórmula: $\\sqrt{x^2 + y^2 + z^2}$\n",
    "## Escreva uma função, usando lambda, que calcule a amplitude dos seguintes vetores:\n",
    "    -> (1,1,1) \n",
    "    -> (3,4,5)"
   ]
  },
  {
   "cell_type": "code",
   "execution_count": 48,
   "metadata": {},
   "outputs": [
    {
     "name": "stdout",
     "output_type": "stream",
     "text": [
      "1.7320508075688772\n",
      "7.0710678118654755\n"
     ]
    }
   ],
   "source": [
    "# resposta 4\n",
    "from math import sqrt\n",
    "\n",
    "amplitude = lambda vetor: sqrt(vetor[0]**2 + vetor[1]**2 + vetor[2]**2)\n",
    "print(amplitude((1,1,1)))\n",
    "print(amplitude((3,4,5)))"
   ]
  },
  {
   "cell_type": "markdown",
   "metadata": {},
   "source": [
    "## 5) Use reduce para criar uma função que calcule o fatorial de qualquer número n"
   ]
  },
  {
   "cell_type": "code",
   "execution_count": 9,
   "metadata": {},
   "outputs": [
    {
     "name": "stdout",
     "output_type": "stream",
     "text": [
      "120\n"
     ]
    }
   ],
   "source": [
    "# resposta 5\n",
    "from functools import reduce\n",
    "from numpy import arange\n",
    "\n",
    "def fatorial(number):\n",
    "    if number <= 0: return 0\n",
    "    if number == 1: return 1\n",
    "    return reduce(lambda x, y: x*y, arange(1, number + 1)[::-1])\n",
    "\n",
    "print(fatorial(5))"
   ]
  },
  {
   "cell_type": "markdown",
   "metadata": {},
   "source": [
    "## 6) Reescreva a função abaixo usando list comprehension:"
   ]
  },
  {
   "cell_type": "code",
   "execution_count": 12,
   "metadata": {},
   "outputs": [
    {
     "name": "stdout",
     "output_type": "stream",
     "text": [
      "['the', 'quick', 'brown', 'fox', 'jumps', 'over', 'the', 'lazy', 'dog']\n",
      "[5, 5, 3, 5, 4, 4, 3]\n"
     ]
    }
   ],
   "source": [
    "sentence = \"the quick brown fox jumps over the lazy dog\"\n",
    "words = sentence.split()\n",
    "word_lengths = []\n",
    "for word in words:\n",
    "      if word != \"the\":\n",
    "          word_lengths.append(len(word))\n",
    "print(words)\n",
    "print(word_lengths)"
   ]
  },
  {
   "cell_type": "code",
   "execution_count": 14,
   "metadata": {},
   "outputs": [
    {
     "name": "stdout",
     "output_type": "stream",
     "text": [
      "['the', 'quick', 'brown', 'fox', 'jumps', 'over', 'the', 'lazy', 'dog']\n",
      "[5, 5, 3, 5, 4, 4, 3]\n"
     ]
    }
   ],
   "source": [
    "# resposta 6\n",
    "sentence = \"the quick brown fox jumps over the lazy dog\"\n",
    "words = sentence.split()\n",
    "word_lengths = [len(word) for word in words if word != 'the']\n",
    "print(words)\n",
    "print(word_lengths)"
   ]
  },
  {
   "cell_type": "markdown",
   "metadata": {},
   "source": [
    "## 7) Calcule o número de meses desde a data que o brasil foi descoberto. Considere um mês com 30 dias. Dia do descobrimento do Brasil 22/04/1500."
   ]
  },
  {
   "cell_type": "code",
   "execution_count": 29,
   "metadata": {},
   "outputs": [
    {
     "name": "stdout",
     "output_type": "stream",
     "text": [
      "5690910\n"
     ]
    }
   ],
   "source": [
    "# resposta 7\n",
    "from datetime import date\n",
    "brazil_discovery = date(1500, 4, 22)\n",
    "number_of_months = (date.today() - brazil_discovery).days * 30\n",
    "print(number_of_months)"
   ]
  },
  {
   "cell_type": "markdown",
   "metadata": {},
   "source": [
    "## 8) Implementar um programa que receba um nome de arquivo e gere estatísticas sobre o arquivo (número de caracteres, número de linhas e número de palavras)\n",
    "    -> verifique a existência do arquivo\n",
    "    -> crie um arquivo de texto fictício contendo 10 linhas"
   ]
  },
  {
   "cell_type": "code",
   "execution_count": 66,
   "metadata": {},
   "outputs": [
    {
     "name": "stdout",
     "output_type": "stream",
     "text": [
      "730 10 110\n"
     ]
    }
   ],
   "source": [
    "# resposta 8\n",
    "import os.path\n",
    "\n",
    "filename = 'desafio_aula2_ex_8.txt'\n",
    "\n",
    "if os.path.exists(filename) == False:\n",
    "    raise Exception('Arquivo não encontrado.')\n",
    "\n",
    "with open(filename) as file:    \n",
    "    lines = file.readlines()\n",
    "    number_of_lines = len(lines)\n",
    "    data = ''\n",
    "    for line in lines:\n",
    "        data = data + line\n",
    "    number_of_words = len(list(filter(lambda w: w.isdigit() == False,  data.split(' '))))\n",
    "    number_of_characters = len(list(filter(lambda c: c != ' ', data)))\n",
    "    print(number_of_characters, number_of_lines, number_of_words)"
   ]
  },
  {
   "cell_type": "code",
   "execution_count": null,
   "metadata": {},
   "outputs": [],
   "source": []
  }
 ],
 "metadata": {
  "kernelspec": {
   "display_name": "Python 3",
   "language": "python",
   "name": "python3"
  },
  "language_info": {
   "codemirror_mode": {
    "name": "ipython",
    "version": 3
   },
   "file_extension": ".py",
   "mimetype": "text/x-python",
   "name": "python",
   "nbconvert_exporter": "python",
   "pygments_lexer": "ipython3",
   "version": "3.7.1"
  }
 },
 "nbformat": 4,
 "nbformat_minor": 4
}
