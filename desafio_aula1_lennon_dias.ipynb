{
 "cells": [
  {
   "cell_type": "markdown",
   "metadata": {},
   "source": [
    "# Exercícios"
   ]
  },
  {
   "cell_type": "markdown",
   "metadata": {},
   "source": [
    "## 1) Inicie uma variável com o valor “josé da silva martins” e converta para o formato “José Da Silva Martins”, com uma única operação. Utilize string e/ou capwords.\n"
   ]
  },
  {
   "cell_type": "code",
   "execution_count": 1,
   "metadata": {},
   "outputs": [
    {
     "name": "stdout",
     "output_type": "stream",
     "text": [
      "José Da Silva Martins\n"
     ]
    }
   ],
   "source": [
    "# resposta 1\n",
    "from string import capwords\n",
    "\n",
    "nome = capwords(\"josé da silva martins\")\n",
    "\n",
    "print(nome)"
   ]
  },
  {
   "cell_type": "markdown",
   "metadata": {},
   "source": [
    "## 2) Crie uma função que verifique se um determinado número é ímpar, sendo ímpar deverá retornar verdadeiro e falso o contrário."
   ]
  },
  {
   "cell_type": "code",
   "execution_count": 7,
   "metadata": {},
   "outputs": [
    {
     "name": "stdout",
     "output_type": "stream",
     "text": [
      "False True\n"
     ]
    }
   ],
   "source": [
    "# resposta 2\n",
    "def is_impar(number):\n",
    "    return number % 2 != 0\n",
    "\n",
    "print(is_impar(2), is_impar(3))"
   ]
  },
  {
   "cell_type": "markdown",
   "metadata": {},
   "source": [
    "## 3) Dado uma lista l = [1.2232, 2.322, 43.23131, 6.34324, 78.3243] transforme seus valores para que ao final tenhamos números arredondados na segunda casa decimal. Utilize a função built-in round(numero, casas_decimais)\n"
   ]
  },
  {
   "cell_type": "code",
   "execution_count": 8,
   "metadata": {},
   "outputs": [
    {
     "name": "stdout",
     "output_type": "stream",
     "text": [
      "[1.22, 2.32, 43.23, 6.34, 78.32]\n"
     ]
    }
   ],
   "source": [
    "# resposta 3\n",
    "l = [1.2232, 2.322, 43.23131, 6.34324, 78.3243]\n",
    "for number in l:\n",
    "    l[l.index(number)] = round(number, 2)\n",
    "    \n",
    "print(l)"
   ]
  },
  {
   "cell_type": "markdown",
   "metadata": {},
   "source": [
    "## 4) Crie uma função que retorne na forma de um dicionário as seguintes informações do texto abaixo: número de palavras (e palavras), número de números (e números) e número de frases (e frases). Utilize a função built-in isdigit() do pacote string para verificar se determinado caractere é número e split(separador) para criar uma lista a partir do caracatere ou token de separação."
   ]
  },
  {
   "cell_type": "raw",
   "metadata": {},
   "source": [
    "Brasil, oficialmente República Federativa do Brasil é o maior país da América do Sul e da região da América Latina, sendo o quinto maior do mundo em área territorial (equivalente a 47 porcento do território sul-americano) e sexto em população (com mais de 200 milhões de habitantes). É o único país na América onde se fala majoritariamente a língua portuguesa e o maior país lusófono do planeta, além de ser uma das nações mais multiculturais e etnicamente diversas, em decorrência da forte imigração oriunda de variados locais do mundo."
   ]
  },
  {
   "cell_type": "code",
   "execution_count": 23,
   "metadata": {},
   "outputs": [
    {
     "name": "stdout",
     "output_type": "stream",
     "text": [
      "{'words': ['Brasil,', 'oficialmente', 'República', 'Federativa', 'do', 'Brasil', 'é', 'o', 'maior', 'país', 'da', 'América', 'do', 'Sul', 'e', 'da', 'região', 'da', 'América', 'Latina,', 'sendo', 'o', 'quinto', 'maior', 'do', 'mundo', 'em', 'área', 'territorial', '(equivalente', 'a', 'porcento', 'do', 'território', 'sul-americano)', 'e', 'sexto', 'em', 'população', '(com', 'mais', 'de', 'milhões', 'de', 'habitantes).', 'É', 'o', 'único', 'país', 'na', 'América', 'onde', 'se', 'fala', 'majoritariamente', 'a', 'língua', 'portuguesa', 'e', 'o', 'maior', 'país', 'lusófono', 'do', 'planeta,', 'além', 'de', 'ser', 'uma', 'das', 'nações', 'mais', 'multiculturais', 'e', 'etnicamente', 'diversas,', 'em', 'decorrência', 'da', 'forte', 'imigração', 'oriunda', 'de', 'variados', 'locais', 'do', 'mundo.'], 'number_of_words': 87, 'numbers': ['47', '200'], 'number_of_numbers': 2, 'phrases': ['Brasil, oficialmente República Federativa do Brasil é o maior país da América do Sul e da região da América Latina, sendo o quinto maior do mundo em área territorial (equivalente a 47 porcento do território sul-americano) e sexto em população (com mais de 200 milhões de habitantes)', ' É o único país na América onde se fala majoritariamente a língua portuguesa e o maior país lusófono do planeta, além de ser uma das nações mais multiculturais e etnicamente diversas, em decorrência da forte imigração oriunda de variados locais do mundo'], 'number_of_phrases': 2}\n"
     ]
    }
   ],
   "source": [
    "# resposta 4\n",
    "def parse_text(text):\n",
    "    text_split_space = text.split(' ')\n",
    "    words = list(filter(lambda w: w.isdigit() == False, text_split_space))\n",
    "    number_of_words = len(words)\n",
    "    numbers = list(filter(lambda n: n.isdigit(), text_split_space))\n",
    "    number_of_numbers = len(numbers)\n",
    "    phrases = list(filter(None, text.split('.')))\n",
    "    number_of_phrases = len(phrases)\n",
    "    text_parsed = dict(words=words, number_of_words=number_of_words, numbers=numbers, number_of_numbers=number_of_numbers, phrases=phrases, number_of_phrases=number_of_phrases)\n",
    "    return text_parsed\n",
    "\n",
    "print(parse_text(\"Brasil, oficialmente República Federativa do Brasil é o maior país da América do Sul e da região da América Latina, sendo o quinto maior do mundo em área territorial (equivalente a 47 porcento do território sul-americano) e sexto em população (com mais de 200 milhões de habitantes). É o único país na América onde se fala majoritariamente a língua portuguesa e o maior país lusófono do planeta, além de ser uma das nações mais multiculturais e etnicamente diversas, em decorrência da forte imigração oriunda de variados locais do mundo.\"))"
   ]
  },
  {
   "cell_type": "markdown",
   "metadata": {},
   "source": [
    "## 5) Implemente um algoritmo que calcule o fatorial de número de modo não-recursivo"
   ]
  },
  {
   "cell_type": "code",
   "execution_count": null,
   "metadata": {},
   "outputs": [],
   "source": [
    "# resposta 5"
   ]
  },
  {
   "cell_type": "markdown",
   "metadata": {},
   "source": [
    "## 6) Implemente duas funções:\n",
    "> Uma que converta graus Celsius para Fahrenheit\n",
    "\n",
    "> Outra que converta graus Fahrenheit para Celsius\n",
    "\n",
    "> 𝐹=  9/5×𝐶+32"
   ]
  },
  {
   "cell_type": "code",
   "execution_count": 24,
   "metadata": {},
   "outputs": [
    {
     "name": "stdout",
     "output_type": "stream",
     "text": [
      "32.0 0.0\n"
     ]
    }
   ],
   "source": [
    "# resposta 6\n",
    "def celsius_to_fahrenheit(value):\n",
    "    return (9/5*value)+32\n",
    "\n",
    "def fahrenheit_to_celsius(value):\n",
    "    return (value-32)*5/9\n",
    "\n",
    "print(celsius_to_fahrenheit(0), fahrenheit_to_celsius(32))"
   ]
  },
  {
   "cell_type": "markdown",
   "metadata": {},
   "source": [
    "## 7) Implemente uma função que receba uma lista com 100 números, de 0 a 99, e retorne outra lista contendo apenas os números primos. \n",
    "    > Use numpy.arange para gerar a lista"
   ]
  },
  {
   "cell_type": "code",
   "execution_count": 43,
   "metadata": {},
   "outputs": [
    {
     "name": "stdout",
     "output_type": "stream",
     "text": [
      "[2, 3, 5, 7, 11, 13, 17, 19, 23, 29, 31, 37, 41, 43, 47, 53, 59, 61, 67, 71, 73, 79, 83, 89, 97]\n"
     ]
    }
   ],
   "source": [
    "# resposta 7\n",
    "from numpy import arange\n",
    "\n",
    "def is_prime(number):\n",
    "    if number <= 1: return False\n",
    "    for divider in arange(1, number):\n",
    "        if divider != 1 and number % divider == 0: return False\n",
    "    return True\n",
    "\n",
    "def return_prime_numbers(numbers):\n",
    "    prime_numbers_list = []\n",
    "    for number in numbers:\n",
    "        if is_prime(number): prime_numbers_list.append(number)\n",
    "    return prime_numbers_list\n",
    "\n",
    "print(return_prime_numbers(arange(0, 100)))"
   ]
  },
  {
   "cell_type": "code",
   "execution_count": null,
   "metadata": {},
   "outputs": [],
   "source": []
  }
 ],
 "metadata": {
  "kernelspec": {
   "display_name": "Python 3",
   "language": "python",
   "name": "python3"
  },
  "language_info": {
   "codemirror_mode": {
    "name": "ipython",
    "version": 3
   },
   "file_extension": ".py",
   "mimetype": "text/x-python",
   "name": "python",
   "nbconvert_exporter": "python",
   "pygments_lexer": "ipython3",
   "version": "3.7.3"
  }
 },
 "nbformat": 4,
 "nbformat_minor": 4
}
